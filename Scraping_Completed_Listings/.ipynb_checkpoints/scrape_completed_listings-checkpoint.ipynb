{
 "cells": [
  {
   "cell_type": "markdown",
   "metadata": {},
   "source": [
    "\n",
    "<img src=\"Images/ebay_logo.png\">\n",
    "# <center> Collecting eBay Listings Data\n",
    "\n",
    "<center> This script creates a CSV file of ebay listings with \n",
    "     \n",
    "<center> 15 columns of data to use for analysis.\n",
    "<br>\n",
    "\n",
    "## <center> Important: \n",
    "\n",
    "<center> This script is made to search sold ebay listings.\n",
    "    \n",
    "<center> Make sure you are looking at completed listings and that you do\n",
    "    \n",
    "<center>all your search filtering on ebay before you collect your input URL."
   ]
  },
  {
   "cell_type": "code",
   "execution_count": 1,
   "metadata": {},
   "outputs": [],
   "source": [
    "# How many results do you want?\n",
    "\n",
    "desired_number_of_results = 300\n",
    "\n",
    "\n",
    "# URL for page 1 of listings you want to scrape?\n",
    "\n",
    "input_link = 'https://www.ebay.com/sch/i.html?_from=R40&_trksid=p2334524.m570.l1313.TR10.TRC2.A0.H0.Xms65.TRS1&_nkw=ms65&_sacat=39472&LH_TitleDesc=0&LH_All=1&_osacat=39472&_odkw=1922&LH_Complete=1&rt=nc'\n",
    "\n",
    "\n",
    "# Where Would you like to Save your CSV File?\n",
    "\n",
    "csv_title = 'ebay_$20_gold_ms65'\n",
    "\n",
    "\n",
    "# File will be to saved to the location of this notebook.\n"
   ]
  },
  {
   "cell_type": "markdown",
   "metadata": {},
   "source": [
    "## <center> Example of page ebay results page.\n",
    "<img src=\"Images/ebay_search.png\">\n",
    "    "
   ]
  },
  {
   "cell_type": "markdown",
   "metadata": {},
   "source": [
    " <center> Don't forget to run input cell.\n",
    "    "
   ]
  },
  {
   "cell_type": "markdown",
   "metadata": {},
   "source": [
    "# <center> Time To Start Scraping\n",
    " <center> Now run cell below to get results!\n",
    "    "
   ]
  },
  {
   "cell_type": "code",
   "execution_count": 1,
   "metadata": {},
   "outputs": [
    {
     "ename": "NameError",
     "evalue": "name 'input_link' is not defined",
     "output_type": "error",
     "traceback": [
      "\u001b[0;31m---------------------------------------------------------------------------\u001b[0m",
      "\u001b[0;31mNameError\u001b[0m                                 Traceback (most recent call last)",
      "\u001b[0;32m<ipython-input-1-ee8851fe7783>\u001b[0m in \u001b[0;36m<module>\u001b[0;34m\u001b[0m\n\u001b[1;32m      7\u001b[0m \u001b[0;31m# Prepare inputs\u001b[0m\u001b[0;34m\u001b[0m\u001b[0;34m\u001b[0m\u001b[0;34m\u001b[0m\u001b[0m\n\u001b[1;32m      8\u001b[0m \u001b[0;34m\u001b[0m\u001b[0m\n\u001b[0;32m----> 9\u001b[0;31m \u001b[0mpartial_link\u001b[0m \u001b[0;34m=\u001b[0m \u001b[0minput_link\u001b[0m\u001b[0;34m[\u001b[0m\u001b[0;34m:\u001b[0m\u001b[0;34m-\u001b[0m\u001b[0;36m1\u001b[0m\u001b[0;34m]\u001b[0m\u001b[0;34m\u001b[0m\u001b[0;34m\u001b[0m\u001b[0m\n\u001b[0m\u001b[1;32m     10\u001b[0m \u001b[0;34m\u001b[0m\u001b[0m\n\u001b[1;32m     11\u001b[0m \u001b[0md\u001b[0m \u001b[0;34m=\u001b[0m \u001b[0mdesired_number_of_results\u001b[0m\u001b[0;34m/\u001b[0m\u001b[0;36m50\u001b[0m\u001b[0;34m\u001b[0m\u001b[0;34m\u001b[0m\u001b[0m\n",
      "\u001b[0;31mNameError\u001b[0m: name 'input_link' is not defined"
     ]
    }
   ],
   "source": [
    "# Dependencies\n",
    "from bs4 import BeautifulSoup\n",
    "import requests\n",
    "import pandas as pd\n",
    "import math\n",
    "\n",
    "# Prepare inputs\n",
    "\n",
    "partial_link = input_link[:-1]\n",
    "\n",
    "d = desired_number_of_results/50\n",
    "ru = math.ceil(d)\n",
    "\n",
    "csv_title = f'{csv_title}.csv'\n",
    "\n",
    "# Loop through ebay listings.\n",
    "\n",
    "n = 0\n",
    "ebay_listings = []\n",
    "\n",
    "for r in range(ru):\n",
    "    \n",
    "    n = n+1\n",
    "    url = f'{partial_link}{str(n)}' \n",
    "    response = requests.get(url)\n",
    "    soup = BeautifulSoup(response.text, 'html.parser')\n",
    "    results = soup.find_all('li', class_='s-item')\n",
    "    \n",
    "    \n",
    "    for result in results: \n",
    "     \n",
    "                title = result.find('h3', class_=\"s-item__title\")\n",
    "\n",
    "                title1 = list(title.strings)[-1]\n",
    "            \n",
    "                l_title = len(title1)\n",
    "            \n",
    "                status = list(title.strings)[0]\n",
    "\n",
    "                s_split= status.split(\" \")\n",
    "                sold= s_split[0]\n",
    "\n",
    "\n",
    "                price = result.find('div', class_=\"s-item__details\").span.text\n",
    "                \n",
    "                end_time = result.find('span', class_=\"s-item__ended-date\").text\n",
    "                time = end_time[7:]\n",
    "                date = end_time[:6]\n",
    "                year = status[-4:]\n",
    "                shipping = result.find('span', class_=\"s-item__shipping\").text\n",
    "                link = result.a['href']\n",
    "                \n",
    "                try:\n",
    "                    result.find('span', class_=\"s-item__bids\").text                    \n",
    "                except AttributeError:                   \n",
    "                    bids= 'BIN'\n",
    "                    f_type= 'Buy_it_now'\n",
    "                else:\n",
    "                    bids = result.find('span', class_=\"s-item__bids\").text \n",
    "                    f_type = 'Auction'\n",
    "                try:\n",
    "                    result.find('span', class_=\"x-tooltip\").text\n",
    "                except AttributeError:\n",
    "                    trp = 'No'\n",
    "                else:\n",
    "                    trp ='Yes'                \n",
    "                try:\n",
    "                    result.find('span', class_='s-item__free-returns').text\n",
    "                except AttributeError:\n",
    "                    returns = 'No'\n",
    "                else:\n",
    "                    returns= 'Yes'\n",
    "                try:\n",
    "                    result.find('span', class_='s-item__purchase-options s-item__purchaseOptions').text\n",
    "                except AttributeError:\n",
    "                    boa= 'No'\n",
    "                else:\n",
    "                    boa= 'Yes'\n",
    "\n",
    "            \n",
    "               \n",
    "                \n",
    "                #Add to list of listings\n",
    "                ebay_listings.append({'Format': f_type,\n",
    "                                      'Best Offer Accepted': boa,\n",
    "                                      'Result': sold,                                   \n",
    "                                      'Title': title1,\n",
    "                                      'Price': price,\n",
    "                                      'Bids': bids,\n",
    "                                      'Shipping': shipping,\n",
    "                                      'Free Returns': returns,\n",
    "                                      'Top Rated Plus': trp,\n",
    "                                      'Date': date,\n",
    "                                      'Time': time,\n",
    "                                      'Year': year,\n",
    "                                      'Link': link, \n",
    "                                      'Title Length': l_title \n",
    "                                })\n",
    "               \n",
    "                \n",
    "df = pd.DataFrame(ebay_listings)\n",
    "df = df.iloc[:desired_number_of_results]\n",
    "\n",
    "ebay_listings_df = df[['Result','Title','Format','Best Offer Accepted','Price','Bids','Shipping','Free Returns','Top Rated Plus','Time','Date','Year','Link','Title Length']]\n",
    "ebay_listings_df.to_csv(csv_title)\n",
    "\n",
    "ebay_listings_df"
   ]
  },
  {
   "cell_type": "markdown",
   "metadata": {},
   "source": [
    "### <center> Once you see the output of the  pandas data frame :\n",
    "<center>Your CSV file has been saved in the location you choose and contain the data you see data frame.\n"
   ]
  }
 ],
 "metadata": {
  "kernelspec": {
   "display_name": "ut_data",
   "language": "python",
   "name": "ut_data"
  },
  "language_info": {
   "codemirror_mode": {
    "name": "ipython",
    "version": 3
   },
   "file_extension": ".py",
   "mimetype": "text/x-python",
   "name": "python",
   "nbconvert_exporter": "python",
   "pygments_lexer": "ipython3",
   "version": "3.7.2"
  }
 },
 "nbformat": 4,
 "nbformat_minor": 2
}
