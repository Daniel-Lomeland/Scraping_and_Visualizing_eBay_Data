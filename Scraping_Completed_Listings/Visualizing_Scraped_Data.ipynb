{
 "cells": [
  {
   "cell_type": "markdown",
   "metadata": {},
   "source": [
    "<br>\n",
    "#  Visualizations with Plotly\n",
    "<br>\n",
    "- ### eBay sales - MS67 Lincoln Cents\n",
    "- ### (November 2018- February 2019)   \n",
    "    \n",
    "<br>\n",
    "<br>\n",
    "    "
   ]
  },
  {
   "cell_type": "code",
   "execution_count": 1,
   "metadata": {},
   "outputs": [
    {
     "data": {
      "text/html": [
       "<script type=\"text/javascript\">window.PlotlyConfig = {MathJaxConfig: 'local'};</script><script type=\"text/javascript\">if (window.MathJax) {MathJax.Hub.Config({SVG: {font: \"STIX-Web\"}});}</script><script>requirejs.config({paths: { 'plotly': ['https://cdn.plot.ly/plotly-latest.min']},});if(!window._Plotly) {require(['plotly'],function(plotly) {window._Plotly=plotly;});}</script>"
      ],
      "text/vnd.plotly.v1+html": [
       "<script type=\"text/javascript\">window.PlotlyConfig = {MathJaxConfig: 'local'};</script><script type=\"text/javascript\">if (window.MathJax) {MathJax.Hub.Config({SVG: {font: \"STIX-Web\"}});}</script><script>requirejs.config({paths: { 'plotly': ['https://cdn.plot.ly/plotly-latest.min']},});if(!window._Plotly) {require(['plotly'],function(plotly) {window._Plotly=plotly;});}</script>"
      ]
     },
     "metadata": {},
     "output_type": "display_data"
    }
   ],
   "source": [
    "import pandas as pd\n",
    "import numpy as np\n",
    "import plotly\n",
    "import plotly.plotly as py\n",
    "import plotly.graph_objs as go\n",
    "from plotly.offline import download_plotlyjs, init_notebook_mode, plot, iplot\n",
    "import warnings\n",
    "warnings.filterwarnings('ignore')\n",
    "plotly.tools.set_credentials_file(username= 'daniellomeland', api_key='IJ9cuDuIT0Hf7nuUnflM')\n",
    "\n",
    "# Jupyter startup\n",
    "init_notebook_mode(connected=True)"
   ]
  },
  {
   "cell_type": "code",
   "execution_count": 228,
   "metadata": {
    "scrolled": true
   },
   "outputs": [
    {
     "data": {
      "text/html": [
       "<div>\n",
       "<style scoped>\n",
       "    .dataframe tbody tr th:only-of-type {\n",
       "        vertical-align: middle;\n",
       "    }\n",
       "\n",
       "    .dataframe tbody tr th {\n",
       "        vertical-align: top;\n",
       "    }\n",
       "\n",
       "    .dataframe thead th {\n",
       "        text-align: right;\n",
       "    }\n",
       "</style>\n",
       "<table border=\"1\" class=\"dataframe\">\n",
       "  <thead>\n",
       "    <tr style=\"text-align: right;\">\n",
       "      <th></th>\n",
       "      <th>Unnamed: 0</th>\n",
       "      <th>Coin_Date</th>\n",
       "      <th>Mint</th>\n",
       "      <th>Grader</th>\n",
       "      <th>CAC</th>\n",
       "      <th>Price_+_Shipping</th>\n",
       "      <th>Price</th>\n",
       "      <th>Shipping</th>\n",
       "      <th>Bids</th>\n",
       "      <th>Result</th>\n",
       "      <th>Free_Returns</th>\n",
       "      <th>Top_Rated_Plus</th>\n",
       "      <th>Format</th>\n",
       "      <th>Best_Offer_Accepted</th>\n",
       "      <th>Title_Length</th>\n",
       "      <th>Sale_Time</th>\n",
       "      <th>Sale_Day</th>\n",
       "      <th>Sale_Date</th>\n",
       "      <th>Sale_Year</th>\n",
       "      <th>Time_Stamp</th>\n",
       "    </tr>\n",
       "  </thead>\n",
       "  <tbody>\n",
       "    <tr>\n",
       "      <th>0</th>\n",
       "      <td>0</td>\n",
       "      <td>1957.0</td>\n",
       "      <td>D</td>\n",
       "      <td>ANACS</td>\n",
       "      <td></td>\n",
       "      <td>188.00</td>\n",
       "      <td>188.0</td>\n",
       "      <td>0.00</td>\n",
       "      <td>-</td>\n",
       "      <td>Ended</td>\n",
       "      <td>Yes</td>\n",
       "      <td>Yes</td>\n",
       "      <td>Buy_it_now</td>\n",
       "      <td>No</td>\n",
       "      <td>70</td>\n",
       "      <td>15:16</td>\n",
       "      <td>Tuesday</td>\n",
       "      <td>Feb-26</td>\n",
       "      <td>2019</td>\n",
       "      <td>2019-02-26</td>\n",
       "    </tr>\n",
       "    <tr>\n",
       "      <th>1</th>\n",
       "      <td>1</td>\n",
       "      <td>1909.0</td>\n",
       "      <td></td>\n",
       "      <td>PCGS</td>\n",
       "      <td></td>\n",
       "      <td>1166.00</td>\n",
       "      <td>1166.0</td>\n",
       "      <td>0.00</td>\n",
       "      <td>-</td>\n",
       "      <td>Sold</td>\n",
       "      <td>No</td>\n",
       "      <td>No</td>\n",
       "      <td>Buy_it_now</td>\n",
       "      <td>Yes</td>\n",
       "      <td>59</td>\n",
       "      <td>15:12</td>\n",
       "      <td>Tuesday</td>\n",
       "      <td>Feb-26</td>\n",
       "      <td>2019</td>\n",
       "      <td>2019-02-26</td>\n",
       "    </tr>\n",
       "    <tr>\n",
       "      <th>2</th>\n",
       "      <td>2</td>\n",
       "      <td>1942.0</td>\n",
       "      <td></td>\n",
       "      <td>NGC</td>\n",
       "      <td></td>\n",
       "      <td>185.00</td>\n",
       "      <td>185.0</td>\n",
       "      <td>0.00</td>\n",
       "      <td>-</td>\n",
       "      <td>Ended</td>\n",
       "      <td>Yes</td>\n",
       "      <td>Yes</td>\n",
       "      <td>Buy_it_now</td>\n",
       "      <td>No</td>\n",
       "      <td>36</td>\n",
       "      <td>15:04</td>\n",
       "      <td>Tuesday</td>\n",
       "      <td>Feb-26</td>\n",
       "      <td>2019</td>\n",
       "      <td>2019-02-26</td>\n",
       "    </tr>\n",
       "    <tr>\n",
       "      <th>3</th>\n",
       "      <td>3</td>\n",
       "      <td>1941.0</td>\n",
       "      <td>S</td>\n",
       "      <td>NGC</td>\n",
       "      <td></td>\n",
       "      <td>225.00</td>\n",
       "      <td>225.0</td>\n",
       "      <td>0.00</td>\n",
       "      <td>-</td>\n",
       "      <td>Ended</td>\n",
       "      <td>Yes</td>\n",
       "      <td>Yes</td>\n",
       "      <td>Buy_it_now</td>\n",
       "      <td>No</td>\n",
       "      <td>38</td>\n",
       "      <td>15:02</td>\n",
       "      <td>Tuesday</td>\n",
       "      <td>Feb-26</td>\n",
       "      <td>2019</td>\n",
       "      <td>2019-02-26</td>\n",
       "    </tr>\n",
       "    <tr>\n",
       "      <th>4</th>\n",
       "      <td>4</td>\n",
       "      <td>1936.0</td>\n",
       "      <td></td>\n",
       "      <td>NGC</td>\n",
       "      <td></td>\n",
       "      <td>253.45</td>\n",
       "      <td>250.0</td>\n",
       "      <td>3.45</td>\n",
       "      <td>0</td>\n",
       "      <td>Ended</td>\n",
       "      <td>Yes</td>\n",
       "      <td>No</td>\n",
       "      <td>Auction</td>\n",
       "      <td>No</td>\n",
       "      <td>47</td>\n",
       "      <td>14:52</td>\n",
       "      <td>Tuesday</td>\n",
       "      <td>Feb-26</td>\n",
       "      <td>2019</td>\n",
       "      <td>2019-02-26</td>\n",
       "    </tr>\n",
       "  </tbody>\n",
       "</table>\n",
       "</div>"
      ],
      "text/plain": [
       "   Unnamed: 0  Coin_Date Mint Grader CAC  Price_+_Shipping   Price  Shipping  \\\n",
       "0           0     1957.0    D  ANACS                188.00   188.0      0.00   \n",
       "1           1     1909.0        PCGS               1166.00  1166.0      0.00   \n",
       "2           2     1942.0         NGC                185.00   185.0      0.00   \n",
       "3           3     1941.0    S    NGC                225.00   225.0      0.00   \n",
       "4           4     1936.0         NGC                253.45   250.0      3.45   \n",
       "\n",
       "  Bids Result Free_Returns Top_Rated_Plus      Format Best_Offer_Accepted  \\\n",
       "0    -  Ended          Yes            Yes  Buy_it_now                  No   \n",
       "1    -   Sold           No             No  Buy_it_now                 Yes   \n",
       "2    -  Ended          Yes            Yes  Buy_it_now                  No   \n",
       "3    -  Ended          Yes            Yes  Buy_it_now                  No   \n",
       "4    0  Ended          Yes             No     Auction                  No   \n",
       "\n",
       "   Title_Length Sale_Time Sale_Day Sale_Date  Sale_Year  Time_Stamp  \n",
       "0            70     15:16  Tuesday    Feb-26       2019  2019-02-26  \n",
       "1            59     15:12  Tuesday    Feb-26       2019  2019-02-26  \n",
       "2            36     15:04  Tuesday    Feb-26       2019  2019-02-26  \n",
       "3            38     15:02  Tuesday    Feb-26       2019  2019-02-26  \n",
       "4            47     14:52  Tuesday    Feb-26       2019  2019-02-26  "
      ]
     },
     "execution_count": 228,
     "metadata": {},
     "output_type": "execute_result"
    }
   ],
   "source": [
    "# Import and view CSV file\n",
    "df = pd.read_csv('Data/sold_MS67_Cents_All.csv')\n",
    "df.head()"
   ]
  },
  {
   "cell_type": "code",
   "execution_count": 229,
   "metadata": {},
   "outputs": [],
   "source": [
    "# Refomat \"Coin Date\"\n",
    "df['Coin_Date'] = df['Coin_Date'].map(lambda x: str(x)[:-2])\n",
    "\n",
    "# Create \"Coin\" column with uniqe coin characteristics\n",
    "df_sold['Coin'] = df_sold.Coin_Date.map(str)+ \" \" + df.Mint + \" \" + df.Grader"
   ]
  },
  {
   "cell_type": "code",
   "execution_count": 231,
   "metadata": {},
   "outputs": [],
   "source": [
    "# Create data frame for only unsold items\n",
    "df_unsold = df[~df.Result.str.contains(\"Sold\")]\n",
    "\n",
    "# Create data frame for only sold items\n",
    "df_sold = df[~df.Result.str.contains(\"Ended\")]"
   ]
  },
  {
   "cell_type": "markdown",
   "metadata": {},
   "source": [
    "<Br>\n",
    "<Br>\n",
    "\n",
    "# <center> First Look at Sale Prices\n",
    "\n",
    "\n",
    "<Br>\n",
    "<Br>\n",
    "<Br>"
   ]
  },
  {
   "cell_type": "code",
   "execution_count": 224,
   "metadata": {},
   "outputs": [
    {
     "data": {
      "text/html": [
       "<div>\n",
       "<style scoped>\n",
       "    .dataframe tbody tr th:only-of-type {\n",
       "        vertical-align: middle;\n",
       "    }\n",
       "\n",
       "    .dataframe tbody tr th {\n",
       "        vertical-align: top;\n",
       "    }\n",
       "\n",
       "    .dataframe thead th {\n",
       "        text-align: right;\n",
       "    }\n",
       "</style>\n",
       "<table border=\"1\" class=\"dataframe\">\n",
       "  <thead>\n",
       "    <tr style=\"text-align: right;\">\n",
       "      <th></th>\n",
       "      <th>Coin</th>\n",
       "      <th>Unnamed: 0</th>\n",
       "      <th>Price_+_Shipping</th>\n",
       "      <th>Price</th>\n",
       "      <th>Shipping</th>\n",
       "      <th>Title_Length</th>\n",
       "      <th>Sale_Year</th>\n",
       "    </tr>\n",
       "  </thead>\n",
       "  <tbody>\n",
       "    <tr>\n",
       "      <th>0</th>\n",
       "      <td>1900   PCGS</td>\n",
       "      <td>1427.0</td>\n",
       "      <td>12219.990</td>\n",
       "      <td>12219.990</td>\n",
       "      <td>0.0</td>\n",
       "      <td>75.000000</td>\n",
       "      <td>2019.000000</td>\n",
       "    </tr>\n",
       "    <tr>\n",
       "      <th>1</th>\n",
       "      <td>1909   NGC</td>\n",
       "      <td>895.0</td>\n",
       "      <td>562.495</td>\n",
       "      <td>562.495</td>\n",
       "      <td>0.0</td>\n",
       "      <td>73.000000</td>\n",
       "      <td>2019.000000</td>\n",
       "    </tr>\n",
       "    <tr>\n",
       "      <th>2</th>\n",
       "      <td>1909   PCGS</td>\n",
       "      <td>1512.0</td>\n",
       "      <td>937.000</td>\n",
       "      <td>937.000</td>\n",
       "      <td>0.0</td>\n",
       "      <td>65.666667</td>\n",
       "      <td>2018.666667</td>\n",
       "    </tr>\n",
       "    <tr>\n",
       "      <th>3</th>\n",
       "      <td>1927   PCGS</td>\n",
       "      <td>2300.0</td>\n",
       "      <td>2390.000</td>\n",
       "      <td>2390.000</td>\n",
       "      <td>0.0</td>\n",
       "      <td>53.000000</td>\n",
       "      <td>2019.000000</td>\n",
       "    </tr>\n",
       "    <tr>\n",
       "      <th>4</th>\n",
       "      <td>1930   PCGS</td>\n",
       "      <td>2760.0</td>\n",
       "      <td>725.000</td>\n",
       "      <td>725.000</td>\n",
       "      <td>0.0</td>\n",
       "      <td>55.000000</td>\n",
       "      <td>2018.000000</td>\n",
       "    </tr>\n",
       "  </tbody>\n",
       "</table>\n",
       "</div>"
      ],
      "text/plain": [
       "          Coin  Unnamed: 0  Price_+_Shipping      Price  Shipping  \\\n",
       "0  1900   PCGS      1427.0         12219.990  12219.990       0.0   \n",
       "1   1909   NGC       895.0           562.495    562.495       0.0   \n",
       "2  1909   PCGS      1512.0           937.000    937.000       0.0   \n",
       "3  1927   PCGS      2300.0          2390.000   2390.000       0.0   \n",
       "4  1930   PCGS      2760.0           725.000    725.000       0.0   \n",
       "\n",
       "   Title_Length    Sale_Year  \n",
       "0     75.000000  2019.000000  \n",
       "1     73.000000  2019.000000  \n",
       "2     65.666667  2018.666667  \n",
       "3     53.000000  2019.000000  \n",
       "4     55.000000  2018.000000  "
      ]
     },
     "execution_count": 224,
     "metadata": {},
     "output_type": "execute_result"
    }
   ],
   "source": [
    "# Group by coin\n",
    "coin_prices_df = df_sold.groupby(['Coin'], as_index=False).mean()\n",
    "coin_prices_df.head(5)"
   ]
  },
  {
   "cell_type": "code",
   "execution_count": 46,
   "metadata": {},
   "outputs": [
    {
     "name": "stdout",
     "output_type": "stream",
     "text": [
      "High five! You successfully sent some data to your account on plotly. View your plot in your browser at https://plot.ly/~daniellomeland/0 or inside your plot.ly account where it is named 'text-hover-bar'\n"
     ]
    },
    {
     "data": {
      "text/html": [
       "<iframe id=\"igraph\" scrolling=\"no\" style=\"border:none;\" seamless=\"seamless\" src=\"https://plot.ly/~daniellomeland/0.embed\" height=\"525px\" width=\"100%\"></iframe>"
      ],
      "text/plain": [
       "<plotly.tools.PlotlyDisplay object>"
      ]
     },
     "execution_count": 46,
     "metadata": {},
     "output_type": "execute_result"
    }
   ],
   "source": [
    "# Create bar graph showing mean prices for each coin\n",
    "\n",
    "trace0 = go.Bar(\n",
    "    x=coin_prices_df['Coin'],\n",
    "    y=coin_prices_df['Price_+_Shipping'],\n",
    "    text= coin_prices_df['Coin'],\n",
    "    marker=dict(\n",
    "        color='#9ecae1',\n",
    "        line=dict(\n",
    "            color='#b495ed',\n",
    "            width=1.5,\n",
    "        )\n",
    "    ),\n",
    "    opacity=0.6\n",
    ")\n",
    "\n",
    "data = [trace0]\n",
    "layout = go.Layout(\n",
    "    title=' Avg Sale Prices',\n",
    ")\n",
    "\n",
    "fig = go.Figure(data=data, layout=layout)\n",
    "py.iplot(fig, filename='text-hover-bar')"
   ]
  },
  {
   "cell_type": "code",
   "execution_count": 47,
   "metadata": {},
   "outputs": [
    {
     "data": {
      "text/plain": [
       "count     1686.000000\n",
       "mean       133.910344\n",
       "std        546.923833\n",
       "min          0.990000\n",
       "25%         19.990000\n",
       "50%         45.000000\n",
       "75%         99.985000\n",
       "max      12219.990000\n",
       "Name: Price, dtype: float64"
      ]
     },
     "execution_count": 47,
     "metadata": {},
     "output_type": "execute_result"
    }
   ],
   "source": [
    "# Info about prices of sold items\n",
    "df_sold['Price'].describe()"
   ]
  },
  {
   "cell_type": "code",
   "execution_count": 48,
   "metadata": {},
   "outputs": [
    {
     "data": {
      "text/plain": [
       "count    1472.000000\n",
       "mean      281.292969\n",
       "std       504.941636\n",
       "min         0.990000\n",
       "25%        72.997500\n",
       "50%       138.000000\n",
       "75%       277.300000\n",
       "max      9245.000000\n",
       "Name: Price, dtype: float64"
      ]
     },
     "execution_count": 48,
     "metadata": {},
     "output_type": "execute_result"
    }
   ],
   "source": [
    "# Info about prices of unold items\n",
    "df_unsold['Price'].describe()"
   ]
  },
  {
   "cell_type": "markdown",
   "metadata": {},
   "source": [
    "<Br>\n",
    "<Br>\n",
    "\n",
    "# <center> Basic Characteristics\n",
    "\n",
    "\n",
    "<Br>\n",
    "<Br>\n",
    "<Br>"
   ]
  },
  {
   "cell_type": "code",
   "execution_count": 40,
   "metadata": {},
   "outputs": [
    {
     "data": {
      "text/html": [
       "<iframe id=\"igraph\" scrolling=\"no\" style=\"border:none;\" seamless=\"seamless\" src=\"https://plot.ly/~daniellomeland/153.embed\" height=\"525px\" width=\"100%\"></iframe>"
      ],
      "text/plain": [
       "<plotly.tools.PlotlyDisplay object>"
      ]
     },
     "execution_count": 40,
     "metadata": {},
     "output_type": "execute_result"
    }
   ],
   "source": [
    "# Get Count of sold vs Unsold\n",
    "count_sold_df = df['Result'].value_counts()\n",
    "list(count_sold_df)\n",
    "\n",
    "# Visualize Grader count\n",
    "labels = ['Sold','Unsold']\n",
    "values = list(count_sold_df)\n",
    "colors = ['#a2f2ca','#f1afa1']\n",
    "\n",
    "trace = go.Pie(labels=labels, values=values,\n",
    "               hoverinfo='label+value', textinfo='label+percent', \n",
    "               textfont=dict(size=20),\n",
    "               marker=dict(colors=colors, \n",
    "                           line=dict(color='#000000', width=3)))\n",
    "\n",
    "\n",
    "data = [trace]\n",
    "\n",
    "layout = go.Layout(\n",
    "    title='Breakdown of Coins By Grader',\n",
    ")\n",
    "\n",
    "fig = go.Figure(data=data, layout=layout)\n",
    "py.iplot(fig, filename='Sold_vs_Unsold')"
   ]
  },
  {
   "cell_type": "code",
   "execution_count": 73,
   "metadata": {},
   "outputs": [
    {
     "ename": "TypeError",
     "evalue": "'<' not supported between instances of 'int' and 'str'",
     "output_type": "error",
     "traceback": [
      "\u001b[0;31m---------------------------------------------------------------------------\u001b[0m",
      "\u001b[0;31mTypeError\u001b[0m                                 Traceback (most recent call last)",
      "\u001b[0;32m<ipython-input-73-153c556f5311>\u001b[0m in \u001b[0;36m<module>\u001b[0;34m\u001b[0m\n\u001b[1;32m      6\u001b[0m labels =[\"pre-1930's\",\"1930's\",\"1940's\",\"1950's\",\"1960's\",\"1970's\",\n\u001b[1;32m      7\u001b[0m         \"1980's\",\"1990's\",\"2000's\",\"2010's\"]\n\u001b[0;32m----> 8\u001b[0;31m \u001b[0myear_count_df\u001b[0m\u001b[0;34m[\u001b[0m\u001b[0;34m'Decade'\u001b[0m\u001b[0;34m]\u001b[0m \u001b[0;34m=\u001b[0m \u001b[0mpd\u001b[0m\u001b[0;34m.\u001b[0m\u001b[0mcut\u001b[0m\u001b[0;34m(\u001b[0m\u001b[0myear_count_df\u001b[0m\u001b[0;34m[\u001b[0m\u001b[0;34m'Coin_Date'\u001b[0m\u001b[0;34m]\u001b[0m\u001b[0;34m,\u001b[0m \u001b[0mbins\u001b[0m\u001b[0;34m,\u001b[0m \u001b[0mlabels\u001b[0m\u001b[0;34m=\u001b[0m \u001b[0mlabels\u001b[0m\u001b[0;34m)\u001b[0m\u001b[0;34m\u001b[0m\u001b[0;34m\u001b[0m\u001b[0m\n\u001b[0m\u001b[1;32m      9\u001b[0m \u001b[0;34m\u001b[0m\u001b[0m\n\u001b[1;32m     10\u001b[0m \u001b[0;34m\u001b[0m\u001b[0m\n",
      "\u001b[0;32m/anaconda3/envs/ut_data/lib/python3.7/site-packages/pandas/core/reshape/tile.py\u001b[0m in \u001b[0;36mcut\u001b[0;34m(x, bins, right, labels, retbins, precision, include_lowest, duplicates)\u001b[0m\n\u001b[1;32m    232\u001b[0m                               \u001b[0minclude_lowest\u001b[0m\u001b[0;34m=\u001b[0m\u001b[0minclude_lowest\u001b[0m\u001b[0;34m,\u001b[0m\u001b[0;34m\u001b[0m\u001b[0;34m\u001b[0m\u001b[0m\n\u001b[1;32m    233\u001b[0m                               \u001b[0mdtype\u001b[0m\u001b[0;34m=\u001b[0m\u001b[0mdtype\u001b[0m\u001b[0;34m,\u001b[0m\u001b[0;34m\u001b[0m\u001b[0;34m\u001b[0m\u001b[0m\n\u001b[0;32m--> 234\u001b[0;31m                               duplicates=duplicates)\n\u001b[0m\u001b[1;32m    235\u001b[0m \u001b[0;34m\u001b[0m\u001b[0m\n\u001b[1;32m    236\u001b[0m     return _postprocess_for_cut(fac, bins, retbins, x_is_series,\n",
      "\u001b[0;32m/anaconda3/envs/ut_data/lib/python3.7/site-packages/pandas/core/reshape/tile.py\u001b[0m in \u001b[0;36m_bins_to_cuts\u001b[0;34m(x, bins, right, labels, precision, include_lowest, dtype, duplicates)\u001b[0m\n\u001b[1;32m    335\u001b[0m \u001b[0;34m\u001b[0m\u001b[0m\n\u001b[1;32m    336\u001b[0m     \u001b[0mside\u001b[0m \u001b[0;34m=\u001b[0m \u001b[0;34m'left'\u001b[0m \u001b[0;32mif\u001b[0m \u001b[0mright\u001b[0m \u001b[0;32melse\u001b[0m \u001b[0;34m'right'\u001b[0m\u001b[0;34m\u001b[0m\u001b[0;34m\u001b[0m\u001b[0m\n\u001b[0;32m--> 337\u001b[0;31m     \u001b[0mids\u001b[0m \u001b[0;34m=\u001b[0m \u001b[0m_ensure_int64\u001b[0m\u001b[0;34m(\u001b[0m\u001b[0mbins\u001b[0m\u001b[0;34m.\u001b[0m\u001b[0msearchsorted\u001b[0m\u001b[0;34m(\u001b[0m\u001b[0mx\u001b[0m\u001b[0;34m,\u001b[0m \u001b[0mside\u001b[0m\u001b[0;34m=\u001b[0m\u001b[0mside\u001b[0m\u001b[0;34m)\u001b[0m\u001b[0;34m)\u001b[0m\u001b[0;34m\u001b[0m\u001b[0;34m\u001b[0m\u001b[0m\n\u001b[0m\u001b[1;32m    338\u001b[0m \u001b[0;34m\u001b[0m\u001b[0m\n\u001b[1;32m    339\u001b[0m     \u001b[0;32mif\u001b[0m \u001b[0minclude_lowest\u001b[0m\u001b[0;34m:\u001b[0m\u001b[0;34m\u001b[0m\u001b[0;34m\u001b[0m\u001b[0m\n",
      "\u001b[0;31mTypeError\u001b[0m: '<' not supported between instances of 'int' and 'str'"
     ]
    }
   ],
   "source": [
    "# Group count of coins for each Date\n",
    "year_count_df = df.groupby(['Coin_Date'], as_index=False).count()\n",
    "\n",
    "# Create Bins For each Decade\n",
    "bins = [1900,1930,1940,1950,1960,1970,1980,1990,2000,2010,2020]\n",
    "labels =[\"pre-1930's\",\"1930's\",\"1940's\",\"1950's\",\"1960's\",\"1970's\",\n",
    "        \"1980's\",\"1990's\",\"2000's\",\"2010's\"]\n",
    "year_count_df['Decade'] = pd.cut(year_count_df['Coin_Date'], bins, labels= labels)\n",
    "\n",
    "\n",
    "# Visualize year count\n",
    "\n",
    "labels = year_count_df['Decade']\n",
    "values = year_count_df['Format']\n",
    "colors = ['#FEBFB3', '#E1396C', '#96D38C']\n",
    "\n",
    "trace = go.Pie(labels=labels, values=values,\n",
    "               hoverinfo='label+value', textinfo='label', \n",
    "               textfont=dict(size=12),\n",
    "               marker=dict(colors=colors, \n",
    "                           line=dict(color='#000000', width=1)))\n",
    "\n",
    "\n",
    "data = [trace]\n",
    "\n",
    "layout = go.Layout(\n",
    "    title='Dates of Coins Sold',\n",
    ")\n",
    "\n",
    "fig = go.Figure(data=data, layout=layout)\n",
    "py.iplot(fig, filename='Breakdown by Date Minted')"
   ]
  },
  {
   "cell_type": "code",
   "execution_count": 204,
   "metadata": {},
   "outputs": [
    {
     "data": {
      "text/html": [
       "<iframe id=\"igraph\" scrolling=\"no\" style=\"border:none;\" seamless=\"seamless\" src=\"https://plot.ly/~daniellomeland/169.embed\" height=\"525px\" width=\"100%\"></iframe>"
      ],
      "text/plain": [
       "<plotly.tools.PlotlyDisplay object>"
      ]
     },
     "execution_count": 204,
     "metadata": {},
     "output_type": "execute_result"
    }
   ],
   "source": [
    "# Get count of grader\n",
    "mint = df['Mint'].value_counts()\n",
    "\n",
    "# Create dataframe\n",
    "mint_df = mint.rename_axis('Mint').reset_index(name='counts')\n",
    "\n",
    "# Replace mint marks with name of city \n",
    "mint_df['Mint'].replace(\n",
    "    to_replace=['D', 'S',' '],\n",
    "    value=['Denver','San Francisco','Philadelphia'],\n",
    "    inplace=True\n",
    ")\n",
    "\n",
    "# Visualize Grader count\n",
    "labels = list(mint_df.Mint)\n",
    "values = list(mint_df.counts)\n",
    "colors = ['#FEBFB3', '#E1396C', '#e262e5']\n",
    "\n",
    "trace = go.Pie(labels=labels, values=values,\n",
    "               hoverinfo='label+percent', textinfo='label+percent', \n",
    "               textfont=dict(size=20),\n",
    "               marker=dict(colors=colors, \n",
    "                           line=dict(color='#000000', width=2)))\n",
    "\n",
    "data = [trace]\n",
    "\n",
    "layout = go.Layout(\n",
    "    title='Breakdown of Coins by City Minted',\n",
    ")\n",
    "\n",
    "fig = go.Figure(data=data, layout=layout)\n",
    "py.iplot(fig)"
   ]
  },
  {
   "cell_type": "code",
   "execution_count": 28,
   "metadata": {},
   "outputs": [
    {
     "data": {
      "text/html": [
       "<iframe id=\"igraph\" scrolling=\"no\" style=\"border:none;\" seamless=\"seamless\" src=\"https://plot.ly/~daniellomeland/144.embed\" height=\"525px\" width=\"100%\"></iframe>"
      ],
      "text/plain": [
       "<plotly.tools.PlotlyDisplay object>"
      ]
     },
     "execution_count": 28,
     "metadata": {},
     "output_type": "execute_result"
    }
   ],
   "source": [
    "# Visualize Grader count\n",
    "labels = list(grader_df.Grader)\n",
    "values = list(grader_df.counts)\n",
    "colors = ['#8fd9e8', '#e5cd62', '#96D38C','#dda4f2']\n",
    "\n",
    "trace = go.Pie(labels=labels, values=values,\n",
    "               hoverinfo='label+percent', textinfo='label+value', \n",
    "               textfont=dict(size=20),\n",
    "               marker=dict(colors=colors, \n",
    "                           line=dict(color='#000000', width=3)))\n",
    "\n",
    "\n",
    "data = [trace]\n",
    "\n",
    "layout = go.Layout(\n",
    "    title='Breakdown of Coins By Grader',\n",
    ")\n",
    "\n",
    "fig = go.Figure(data=data, layout=layout)\n",
    "py.iplot(fig, filename='Breakdown By Grader')"
   ]
  },
  {
   "cell_type": "code",
   "execution_count": 41,
   "metadata": {},
   "outputs": [
    {
     "data": {
      "text/html": [
       "<div>\n",
       "<style scoped>\n",
       "    .dataframe tbody tr th:only-of-type {\n",
       "        vertical-align: middle;\n",
       "    }\n",
       "\n",
       "    .dataframe tbody tr th {\n",
       "        vertical-align: top;\n",
       "    }\n",
       "\n",
       "    .dataframe thead th {\n",
       "        text-align: right;\n",
       "    }\n",
       "</style>\n",
       "<table border=\"1\" class=\"dataframe\">\n",
       "  <thead>\n",
       "    <tr style=\"text-align: right;\">\n",
       "      <th></th>\n",
       "      <th>Coin</th>\n",
       "      <th>Unnamed: 0</th>\n",
       "      <th>Coin_Date</th>\n",
       "      <th>Price_+_Shipping</th>\n",
       "      <th>Price</th>\n",
       "      <th>Shipping</th>\n",
       "      <th>Title_Length</th>\n",
       "      <th>Sale_Year</th>\n",
       "    </tr>\n",
       "  </thead>\n",
       "  <tbody>\n",
       "    <tr>\n",
       "      <th>0</th>\n",
       "      <td>1900.0   PCGS</td>\n",
       "      <td>1427.000000</td>\n",
       "      <td>1900.0</td>\n",
       "      <td>12219.9900</td>\n",
       "      <td>12219.9900</td>\n",
       "      <td>0.0</td>\n",
       "      <td>75.00</td>\n",
       "      <td>2019.000000</td>\n",
       "    </tr>\n",
       "    <tr>\n",
       "      <th>1</th>\n",
       "      <td>1909.0   NGC</td>\n",
       "      <td>1067.250000</td>\n",
       "      <td>1909.0</td>\n",
       "      <td>711.1850</td>\n",
       "      <td>711.1850</td>\n",
       "      <td>0.0</td>\n",
       "      <td>61.75</td>\n",
       "      <td>2019.000000</td>\n",
       "    </tr>\n",
       "    <tr>\n",
       "      <th>2</th>\n",
       "      <td>1909.0   PCGS</td>\n",
       "      <td>1049.416667</td>\n",
       "      <td>1909.0</td>\n",
       "      <td>1119.8125</td>\n",
       "      <td>1118.3125</td>\n",
       "      <td>1.5</td>\n",
       "      <td>51.50</td>\n",
       "      <td>2018.916667</td>\n",
       "    </tr>\n",
       "    <tr>\n",
       "      <th>3</th>\n",
       "      <td>1910.0   NGC</td>\n",
       "      <td>1462.000000</td>\n",
       "      <td>1910.0</td>\n",
       "      <td>3137.9500</td>\n",
       "      <td>3137.9500</td>\n",
       "      <td>0.0</td>\n",
       "      <td>74.00</td>\n",
       "      <td>2019.000000</td>\n",
       "    </tr>\n",
       "    <tr>\n",
       "      <th>4</th>\n",
       "      <td>1915.0   PCGS</td>\n",
       "      <td>43.000000</td>\n",
       "      <td>1915.0</td>\n",
       "      <td>9245.0000</td>\n",
       "      <td>9245.0000</td>\n",
       "      <td>0.0</td>\n",
       "      <td>31.00</td>\n",
       "      <td>2019.000000</td>\n",
       "    </tr>\n",
       "  </tbody>\n",
       "</table>\n",
       "</div>"
      ],
      "text/plain": [
       "            Coin   Unnamed: 0  Coin_Date  Price_+_Shipping       Price  \\\n",
       "0  1900.0   PCGS  1427.000000     1900.0        12219.9900  12219.9900   \n",
       "1   1909.0   NGC  1067.250000     1909.0          711.1850    711.1850   \n",
       "2  1909.0   PCGS  1049.416667     1909.0         1119.8125   1118.3125   \n",
       "3   1910.0   NGC  1462.000000     1910.0         3137.9500   3137.9500   \n",
       "4  1915.0   PCGS    43.000000     1915.0         9245.0000   9245.0000   \n",
       "\n",
       "   Shipping  Title_Length    Sale_Year  \n",
       "0       0.0         75.00  2019.000000  \n",
       "1       0.0         61.75  2019.000000  \n",
       "2       1.5         51.50  2018.916667  \n",
       "3       0.0         74.00  2019.000000  \n",
       "4       0.0         31.00  2019.000000  "
      ]
     },
     "execution_count": 41,
     "metadata": {},
     "output_type": "execute_result"
    }
   ],
   "source": [
    "# Create column with uniqe coin characteristics\n",
    "df['Coin'] = df.Coin_Date.map(str)+ \" \" + df.Mint + \" \" + df.Grader\n",
    "\n",
    "# Group by Coin\n",
    "coin_prices_df = df.groupby(['Coin'], as_index=False).mean()\n",
    "coin_prices_df.head()"
   ]
  },
  {
   "cell_type": "markdown",
   "metadata": {},
   "source": [
    "<Br>\n",
    "<Br>\n",
    "\n",
    "# <center> Analyzing Sales By Day of Week / Hour of Day\n",
    "\n",
    "<Br>\n",
    "<Br>\n",
    "<Br>"
   ]
  },
  {
   "cell_type": "code",
   "execution_count": 72,
   "metadata": {},
   "outputs": [
    {
     "data": {
      "text/html": [
       "<iframe id=\"igraph\" scrolling=\"no\" style=\"border:none;\" seamless=\"seamless\" src=\"https://plot.ly/~daniellomeland/2.embed\" height=\"525px\" width=\"100%\"></iframe>"
      ],
      "text/plain": [
       "<plotly.tools.PlotlyDisplay object>"
      ]
     },
     "execution_count": 72,
     "metadata": {},
     "output_type": "execute_result"
    }
   ],
   "source": [
    "# Days of week by counts\n",
    "df_days_count = df_sold.groupby(['Sale_Day'], as_index=False).count()\n",
    "\n",
    "# Visualize Grader count\n",
    "labels = df_days_count['Sale_Day']\n",
    "values = df_days_count['Coin_Date']\n",
    "colors = ['#FEBFB3', '#E1396C', '#96D38C']\n",
    "\n",
    "trace = go.Pie(labels=labels, values=values,\n",
    "               hoverinfo='label+percent', textinfo='label+value', \n",
    "               textfont=dict(size=20),\n",
    "               marker=dict(colors=colors, \n",
    "                           line=dict(color='#000000', width=2)))\n",
    "\n",
    "data = [trace]\n",
    "\n",
    "layout = go.Layout(\n",
    "    title='Count of Sales by Day of Week',\n",
    ")\n",
    "\n",
    "fig = go.Figure(data=data, layout=layout)\n",
    "py.iplot(fig, filename='Daily Sales')\n"
   ]
  },
  {
   "cell_type": "code",
   "execution_count": 90,
   "metadata": {
    "scrolled": false
   },
   "outputs": [
    {
     "data": {
      "text/html": [
       "<iframe id=\"igraph\" scrolling=\"no\" style=\"border:none;\" seamless=\"seamless\" src=\"https://plot.ly/~dlomeland/29.embed\" height=\"525px\" width=\"100%\"></iframe>"
      ],
      "text/plain": [
       "<plotly.tools.PlotlyDisplay object>"
      ]
     },
     "execution_count": 90,
     "metadata": {},
     "output_type": "execute_result"
    }
   ],
   "source": [
    "# Modify time of day column to hour of day\n",
    "df_sold['Sale_Time'] = df_sold['Sale_Time'].astype(str)\n",
    "df_sold['Sale_Time'] = df_sold['Sale_Time'].str[:-3]\n",
    "\n",
    "# group by hour of day\n",
    "df_hour_count.groupby(['Sale_Time'], as_index=False).mean()\n",
    "\n",
    "# count of listings by hour\n",
    "df_hour_count2 = time_df.groupby(['Sale_Time'], as_index=False).count()\n",
    "\n",
    "\n",
    "\n",
    "# Visualize Grader count\n",
    "labels = time_df2['Sale_Time']\n",
    "values = time_df2['Coin_Date']\n",
    "colors = ['#FEBFB3', '#E1396C', '#96D38C']\n",
    "\n",
    "trace = go.Pie(labels=labels, values=values,\n",
    "               hoverinfo='label+percent', textinfo='label+value', \n",
    "               textfont=dict(size=20),\n",
    "               marker=dict(colors=colors, \n",
    "                           line=dict(color='#000000', width=2)))\n",
    "\n",
    "\n",
    "data = [trace]\n",
    "\n",
    "layout = go.Layout(\n",
    "    title='Count of Sales by Hour of Day',\n",
    ")\n",
    "\n",
    "fig = go.Figure(data=data, layout=layout)\n",
    "py.iplot(fig, filename='Hourly Sales')\n"
   ]
  },
  {
   "cell_type": "code",
   "execution_count": 239,
   "metadata": {},
   "outputs": [],
   "source": [
    "# More Examination into Hour of the day\n",
    "\n",
    "# Create data frame of sold Buy it now Lisitings\n",
    "df_bs = df_sold[df_sold['Format'].str.contains(\"Buy_it_now\")]\n",
    "\n",
    "# group by hour of day\n",
    "df_bin_sold= df_bs.groupby(['Sale_Time'], as_index=False).count()\n",
    "\n",
    "# Create data frame of sold Auctions\n",
    "df_as = df_sold[df_sold['Format'].str.contains(\"Auction\")]\n",
    "\n",
    "# group by hour of day\n",
    "df_a_sold= df_as.groupby(['Sale_Time'], as_index=False).count()"
   ]
  },
  {
   "cell_type": "code",
   "execution_count": 243,
   "metadata": {},
   "outputs": [
    {
     "data": {
      "text/html": [
       "<div>\n",
       "<style scoped>\n",
       "    .dataframe tbody tr th:only-of-type {\n",
       "        vertical-align: middle;\n",
       "    }\n",
       "\n",
       "    .dataframe tbody tr th {\n",
       "        vertical-align: top;\n",
       "    }\n",
       "\n",
       "    .dataframe thead th {\n",
       "        text-align: right;\n",
       "    }\n",
       "</style>\n",
       "<table border=\"1\" class=\"dataframe\">\n",
       "  <thead>\n",
       "    <tr style=\"text-align: right;\">\n",
       "      <th></th>\n",
       "      <th>Price_+_Shipping</th>\n",
       "    </tr>\n",
       "  </thead>\n",
       "  <tbody>\n",
       "    <tr>\n",
       "      <th>count</th>\n",
       "      <td>758.000000</td>\n",
       "    </tr>\n",
       "    <tr>\n",
       "      <th>mean</th>\n",
       "      <td>220.491596</td>\n",
       "    </tr>\n",
       "    <tr>\n",
       "      <th>std</th>\n",
       "      <td>757.887321</td>\n",
       "    </tr>\n",
       "    <tr>\n",
       "      <th>min</th>\n",
       "      <td>7.590000</td>\n",
       "    </tr>\n",
       "    <tr>\n",
       "      <th>25%</th>\n",
       "      <td>26.912500</td>\n",
       "    </tr>\n",
       "    <tr>\n",
       "      <th>50%</th>\n",
       "      <td>74.995000</td>\n",
       "    </tr>\n",
       "    <tr>\n",
       "      <th>75%</th>\n",
       "      <td>152.997500</td>\n",
       "    </tr>\n",
       "    <tr>\n",
       "      <th>max</th>\n",
       "      <td>12219.990000</td>\n",
       "    </tr>\n",
       "  </tbody>\n",
       "</table>\n",
       "</div>"
      ],
      "text/plain": [
       "       Price_+_Shipping\n",
       "count        758.000000\n",
       "mean         220.491596\n",
       "std          757.887321\n",
       "min            7.590000\n",
       "25%           26.912500\n",
       "50%           74.995000\n",
       "75%          152.997500\n",
       "max        12219.990000"
      ]
     },
     "execution_count": 243,
     "metadata": {},
     "output_type": "execute_result"
    }
   ],
   "source": [
    "df_bs[['Sale_Time','Price_+_Shipping']].describe()"
   ]
  },
  {
   "cell_type": "code",
   "execution_count": 244,
   "metadata": {},
   "outputs": [
    {
     "data": {
      "text/html": [
       "<div>\n",
       "<style scoped>\n",
       "    .dataframe tbody tr th:only-of-type {\n",
       "        vertical-align: middle;\n",
       "    }\n",
       "\n",
       "    .dataframe tbody tr th {\n",
       "        vertical-align: top;\n",
       "    }\n",
       "\n",
       "    .dataframe thead th {\n",
       "        text-align: right;\n",
       "    }\n",
       "</style>\n",
       "<table border=\"1\" class=\"dataframe\">\n",
       "  <thead>\n",
       "    <tr style=\"text-align: right;\">\n",
       "      <th></th>\n",
       "      <th>Price_+_Shipping</th>\n",
       "    </tr>\n",
       "  </thead>\n",
       "  <tbody>\n",
       "    <tr>\n",
       "      <th>count</th>\n",
       "      <td>928.000000</td>\n",
       "    </tr>\n",
       "    <tr>\n",
       "      <th>mean</th>\n",
       "      <td>67.271843</td>\n",
       "    </tr>\n",
       "    <tr>\n",
       "      <th>std</th>\n",
       "      <td>252.261252</td>\n",
       "    </tr>\n",
       "    <tr>\n",
       "      <th>min</th>\n",
       "      <td>4.090000</td>\n",
       "    </tr>\n",
       "    <tr>\n",
       "      <th>25%</th>\n",
       "      <td>19.457500</td>\n",
       "    </tr>\n",
       "    <tr>\n",
       "      <th>50%</th>\n",
       "      <td>36.000000</td>\n",
       "    </tr>\n",
       "    <tr>\n",
       "      <th>75%</th>\n",
       "      <td>66.492500</td>\n",
       "    </tr>\n",
       "    <tr>\n",
       "      <th>max</th>\n",
       "      <td>7254.000000</td>\n",
       "    </tr>\n",
       "  </tbody>\n",
       "</table>\n",
       "</div>"
      ],
      "text/plain": [
       "       Price_+_Shipping\n",
       "count        928.000000\n",
       "mean          67.271843\n",
       "std          252.261252\n",
       "min            4.090000\n",
       "25%           19.457500\n",
       "50%           36.000000\n",
       "75%           66.492500\n",
       "max         7254.000000"
      ]
     },
     "execution_count": 244,
     "metadata": {},
     "output_type": "execute_result"
    }
   ],
   "source": [
    "df_as[['Sale_Time','Price_+_Shipping']].describe()"
   ]
  },
  {
   "cell_type": "code",
   "execution_count": 193,
   "metadata": {
    "scrolled": false
   },
   "outputs": [
    {
     "data": {
      "text/html": [
       "<iframe id=\"igraph\" scrolling=\"no\" style=\"border:none;\" seamless=\"seamless\" src=\"https://plot.ly/~daniellomeland/167.embed\" height=\"525px\" width=\"100%\"></iframe>"
      ],
      "text/plain": [
       "<plotly.tools.PlotlyDisplay object>"
      ]
     },
     "execution_count": 193,
     "metadata": {},
     "output_type": "execute_result"
    }
   ],
   "source": [
    "\n",
    "\n",
    "# Create Bar Graph\n",
    "\n",
    "trace1 = go.Bar(\n",
    "    x=df_a_sold.Sale_Time,\n",
    "    y=df_a_sold.Coin_Date,   \n",
    "    name = 'Auctions')\n",
    "trace2 = go.Bar(\n",
    "    x=df_bin_sold.Sale_Time,\n",
    "    y=df_bin_sold.Coin_Date,\n",
    "    name = 'Buy It Now')\n",
    "\n",
    "layout = dict(\n",
    "        title = 'Sale Time Buy_It_Now vs Auctions',\n",
    "        paper_bgcolor='rgb(243, 243, 243)',\n",
    "        plot_bgcolor='rgb(243, 243, 243)'\n",
    ")\n",
    "data = [trace1, trace2]\n",
    "\n",
    "fig= dict(data=data, layout=layout)\n",
    "\n",
    "py.iplot(fig, filename='Sale Time Buy_It_Now vs Auctions')"
   ]
  },
  {
   "cell_type": "code",
   "execution_count": 234,
   "metadata": {},
   "outputs": [
    {
     "data": {
      "text/html": [
       "<iframe id=\"igraph\" scrolling=\"no\" style=\"border:none;\" seamless=\"seamless\" src=\"https://plot.ly/~daniellomeland/167.embed\" height=\"525px\" width=\"100%\"></iframe>"
      ],
      "text/plain": [
       "<plotly.tools.PlotlyDisplay object>"
      ]
     },
     "execution_count": 234,
     "metadata": {},
     "output_type": "execute_result"
    }
   ],
   "source": [
    "# Create Bar chart of hourly average prices\n",
    "\n",
    "# group by hour of day\n",
    "df_bin_h_prices= df_bs.groupby(['Sale_Time'], as_index=False).mean()\n",
    "\n",
    "# group by hour of day\n",
    "df_a_h_prices= df_as.groupby(['Sale_Time'], as_index=False).mean()\n",
    "\n",
    "# Create Bar Graph\n",
    "\n",
    "trace1 = go.Bar(\n",
    "    x=df_bin_h_prices.Sale_Time,\n",
    "    y=df_bin_h_prices['Price_+_Shipping'],   \n",
    "    name = 'Auctions')\n",
    "trace2 = go.Bar(\n",
    "    x=df_a_h_prices.Sale_Time,\n",
    "    y=df_a_h_prices['Price_+_Shipping'],\n",
    "    name = 'Buy It Now')\n",
    "\n",
    "layout = dict(\n",
    "        title = 'Prices by Sale Time Buy_It_Now vs Auctions',\n",
    "        paper_bgcolor='rgb(243, 243, 243)',\n",
    "        plot_bgcolor='rgb(243, 243, 243)'\n",
    ")\n",
    "data = [trace1, trace2]\n",
    "\n",
    "fig= dict(data=data, layout=layout)\n",
    "\n",
    "py.iplot(fig, filename='Sale Time Buy_It_Now vs Auctions')"
   ]
  },
  {
   "cell_type": "code",
   "execution_count": 240,
   "metadata": {},
   "outputs": [
    {
     "data": {
      "text/html": [
       "<iframe id=\"igraph\" scrolling=\"no\" style=\"border:none;\" seamless=\"seamless\" src=\"https://plot.ly/~daniellomeland/167.embed\" height=\"525px\" width=\"100%\"></iframe>"
      ],
      "text/plain": [
       "<plotly.tools.PlotlyDisplay object>"
      ]
     },
     "execution_count": 240,
     "metadata": {},
     "output_type": "execute_result"
    }
   ],
   "source": [
    "# Create Bar chart of hourly average prices\n",
    "\n",
    "# group by hour of day\n",
    "df_bin_h_prices= df_bs.groupby(['Sale_Time'], as_index=False).mean()\n",
    "\n",
    "# group by hour of day\n",
    "df_a_h_prices= df_as.groupby(['Sale_Time'], as_index=False).mean()\n",
    "\n",
    "# Create Bar Graph\n",
    "\n",
    "trace1 = go.Bar(\n",
    "    x=df_bin_h_prices.Sale_Time,\n",
    "    y=df_bin_h_prices['Price_+_Shipping'],   \n",
    "    name = 'Auctions')\n",
    "trace2 = go.Bar(\n",
    "    x=df_a_h_prices.Sale_Time,\n",
    "    y=df_a_h_prices['Price_+_Shipping'],\n",
    "    name = 'Buy It Now')\n",
    "\n",
    "layout = dict(\n",
    "        title = 'Prices by Sale Time Buy_It_Now vs Auctions',\n",
    "        paper_bgcolor='rgb(243, 243, 243)',\n",
    "        plot_bgcolor='rgb(243, 243, 243)'\n",
    ")\n",
    "data = [trace1, trace2]\n",
    "\n",
    "fig= dict(data=data, layout=layout)\n",
    "\n",
    "py.iplot(fig, filename='Sale Time Buy_It_Now vs Auctions')"
   ]
  },
  {
   "cell_type": "code",
   "execution_count": 206,
   "metadata": {},
   "outputs": [],
   "source": [
    "# Days of week by means\n",
    "\n",
    "df_days_ms = df_sold.groupby(['Sale_Day'], as_index=False).mean()\n",
    "\n",
    "df_days_mu = df_unsold.groupby(['Sale_Day'], as_index=False).mean()\n",
    "\n",
    "\n",
    "# Days of week by count\n",
    "\n",
    "df_days_cs= df_sold.groupby(['Sale_Day'], as_index=False).count()\n",
    "\n",
    "df_days_cu= df_unsold.groupby(['Sale_Day'], as_index=False).count()"
   ]
  },
  {
   "cell_type": "code",
   "execution_count": 137,
   "metadata": {},
   "outputs": [
    {
     "data": {
      "application/vnd.plotly.v1+json": {
       "config": {
        "linkText": "Export to plot.ly",
        "plotlyServerURL": "https://plot.ly",
        "showLink": false
       },
       "data": [
        {
         "line": {
          "color": "#0c0c0c"
         },
         "name": "Coins Sold",
         "opacity": 0.8,
         "type": "scatter",
         "uid": "2da60756-67f5-420d-bd0d-7a42ddec2f12",
         "x": [
          "Friday",
          "Monday",
          "Saturday",
          "Sunday",
          "Thursday",
          "Tuesday",
          "Wednesday"
         ],
         "y": [
          181,
          195,
          323,
          415,
          203,
          186,
          183
         ]
        },
        {
         "line": {
          "color": "#4daf50"
         },
         "name": "Price Sold",
         "opacity": 0.8,
         "type": "scatter",
         "uid": "5b1b5601-2521-451c-acf0-f31251b050d1",
         "x": [
          "Friday",
          "Monday",
          "Saturday",
          "Sunday",
          "Thursday",
          "Tuesday",
          "Wednesday"
         ],
         "y": [
          96.95718232044207,
          117.33882051282066,
          99.88712074303419,
          122.62122891566239,
          259.9288177339898,
          176.17505376344104,
          111.72196721311487
         ]
        },
        {
         "line": {
          "color": "#edef86"
         },
         "name": "Title Length Sold",
         "opacity": 0.8,
         "type": "scatter",
         "uid": "9ac42fd4-4c7f-44c1-8623-c49303bce0f8",
         "x": [
          "Friday",
          "Monday",
          "Saturday",
          "Sunday",
          "Thursday",
          "Tuesday",
          "Wednesday"
         ],
         "y": [
          57.6243093922652,
          54.34871794871795,
          56.36842105263158,
          57.63373493975904,
          56.80788177339902,
          57.48924731182796,
          55.15300546448088
         ]
        },
        {
         "line": {
          "color": "#8ee0ed"
         },
         "name": "Shipping Sold",
         "opacity": 0.8,
         "type": "scatter",
         "uid": "7997c526-9e8f-4c62-aa46-489158072bc5",
         "x": [
          "Friday",
          "Monday",
          "Saturday",
          "Sunday",
          "Thursday",
          "Tuesday",
          "Wednesday"
         ],
         "y": [
          2.0822099447513827,
          1.924820512820513,
          2.7383900928792593,
          2.2698795180722917,
          2.0998522167487694,
          2.2375268817204303,
          2.004863387978143
         ]
        },
        {
         "line": {
          "color": "#af584c"
         },
         "name": "Price Unsold",
         "opacity": 0.8,
         "type": "scatter",
         "uid": "37d00bcd-15a9-45eb-8692-6e010ee9fa85",
         "x": [
          "Friday",
          "Monday",
          "Saturday",
          "Sunday",
          "Thursday",
          "Tuesday",
          "Wednesday"
         ],
         "y": [
          284.18684466019414,
          302.55498181818183,
          329.74684210526317,
          326.1914473684208,
          211.9786111111112,
          216.770153846154,
          292.6487096774191
         ]
        },
        {
         "line": {
          "color": "#a0a0a0"
         },
         "name": "Coins Unsold",
         "opacity": 0.8,
         "type": "scatter",
         "uid": "6324e7ee-48b5-40bf-b066-8a47eb125286",
         "x": [
          "Friday",
          "Monday",
          "Saturday",
          "Sunday",
          "Thursday",
          "Tuesday",
          "Wednesday"
         ],
         "y": [
          206,
          275,
          171,
          228,
          180,
          195,
          217
         ]
        },
        {
         "line": {
          "color": "#f1afa1"
         },
         "name": "Title Length Unsold",
         "opacity": 0.8,
         "type": "scatter",
         "uid": "88602a01-05b6-441a-8b54-7e5ef0cf4475",
         "x": [
          "Friday",
          "Monday",
          "Saturday",
          "Sunday",
          "Thursday",
          "Tuesday",
          "Wednesday"
         ],
         "y": [
          59.50970873786408,
          57.36,
          63.53216374269006,
          60.59649122807018,
          59.59444444444444,
          60.59487179487179,
          58.944700460829495
         ]
        },
        {
         "line": {
          "color": "#dbf7fc"
         },
         "name": "Shipping Unsold",
         "opacity": 0.8,
         "type": "scatter",
         "uid": "2ef7f9e7-108f-4ef9-9a6c-0a6aaeb6f053",
         "x": [
          "Friday",
          "Monday",
          "Saturday",
          "Sunday",
          "Thursday",
          "Tuesday",
          "Wednesday"
         ],
         "y": [
          2.300679611650484,
          1.5743272727272717,
          1.2270760233918125,
          1.4413157894736837,
          1.4515555555555548,
          1.9086666666666658,
          1.3480184331797225
         ]
        }
       ],
       "layout": {
        "paper_bgcolor": "rgb(243, 243, 243)",
        "plot_bgcolor": "rgb(243, 243, 243)",
        "title": {
         "text": "Averages by End Day, Sold & Unsold"
        }
       }
      },
      "text/html": [
       "<div id=\"7466058e-64cf-400c-b20e-a8226e01ea95\" style=\"height: 525px; width: 100%;\" class=\"plotly-graph-div\"></div><script type=\"text/javascript\">require([\"plotly\"], function(Plotly) { window.PLOTLYENV=window.PLOTLYENV || {};window.PLOTLYENV.BASE_URL=\"https://plot.ly\";Plotly.newPlot(\"7466058e-64cf-400c-b20e-a8226e01ea95\", [{\"line\": {\"color\": \"#0c0c0c\"}, \"name\": \"Coins Sold\", \"opacity\": 0.8, \"x\": [\"Friday\", \"Monday\", \"Saturday\", \"Sunday\", \"Thursday\", \"Tuesday\", \"Wednesday\"], \"y\": [181, 195, 323, 415, 203, 186, 183], \"type\": \"scatter\", \"uid\": \"87d12f9b-9c91-4129-920c-462f2e0d1263\"}, {\"line\": {\"color\": \"#4daf50\"}, \"name\": \"Price Sold\", \"opacity\": 0.8, \"x\": [\"Friday\", \"Monday\", \"Saturday\", \"Sunday\", \"Thursday\", \"Tuesday\", \"Wednesday\"], \"y\": [96.95718232044207, 117.33882051282066, 99.88712074303419, 122.62122891566239, 259.9288177339898, 176.17505376344104, 111.72196721311487], \"type\": \"scatter\", \"uid\": \"060111f4-b688-45a8-90e0-17803b9f0612\"}, {\"line\": {\"color\": \"#edef86\"}, \"name\": \"Title Length Sold\", \"opacity\": 0.8, \"x\": [\"Friday\", \"Monday\", \"Saturday\", \"Sunday\", \"Thursday\", \"Tuesday\", \"Wednesday\"], \"y\": [57.6243093922652, 54.34871794871795, 56.36842105263158, 57.63373493975904, 56.80788177339902, 57.48924731182796, 55.15300546448088], \"type\": \"scatter\", \"uid\": \"ebff9a51-5f49-41e0-9fff-48ac4c8ada07\"}, {\"line\": {\"color\": \"#8ee0ed\"}, \"name\": \"Shipping Sold\", \"opacity\": 0.8, \"x\": [\"Friday\", \"Monday\", \"Saturday\", \"Sunday\", \"Thursday\", \"Tuesday\", \"Wednesday\"], \"y\": [2.0822099447513827, 1.924820512820513, 2.7383900928792593, 2.2698795180722917, 2.0998522167487694, 2.2375268817204303, 2.004863387978143], \"type\": \"scatter\", \"uid\": \"33a580e8-4d2c-4d8f-af08-0e36d37a7d27\"}, {\"line\": {\"color\": \"#af584c\"}, \"name\": \"Price Unsold\", \"opacity\": 0.8, \"x\": [\"Friday\", \"Monday\", \"Saturday\", \"Sunday\", \"Thursday\", \"Tuesday\", \"Wednesday\"], \"y\": [284.18684466019414, 302.55498181818183, 329.74684210526317, 326.1914473684208, 211.9786111111112, 216.770153846154, 292.6487096774191], \"type\": \"scatter\", \"uid\": \"acdc8a6c-a9ac-4596-a5cf-83dc6e7c433e\"}, {\"line\": {\"color\": \"#a0a0a0\"}, \"name\": \"Coins Unsold\", \"opacity\": 0.8, \"x\": [\"Friday\", \"Monday\", \"Saturday\", \"Sunday\", \"Thursday\", \"Tuesday\", \"Wednesday\"], \"y\": [206, 275, 171, 228, 180, 195, 217], \"type\": \"scatter\", \"uid\": \"c880b08f-b4fa-4a12-b0f9-3b5e172ad07d\"}, {\"line\": {\"color\": \"#f1afa1\"}, \"name\": \"Title Length Unsold\", \"opacity\": 0.8, \"x\": [\"Friday\", \"Monday\", \"Saturday\", \"Sunday\", \"Thursday\", \"Tuesday\", \"Wednesday\"], \"y\": [59.50970873786408, 57.36, 63.53216374269006, 60.59649122807018, 59.59444444444444, 60.59487179487179, 58.944700460829495], \"type\": \"scatter\", \"uid\": \"b8b8410a-65f2-4c5d-9e72-eabd5ea4639d\"}, {\"line\": {\"color\": \"#dbf7fc\"}, \"name\": \"Shipping Unsold\", \"opacity\": 0.8, \"x\": [\"Friday\", \"Monday\", \"Saturday\", \"Sunday\", \"Thursday\", \"Tuesday\", \"Wednesday\"], \"y\": [2.300679611650484, 1.5743272727272717, 1.2270760233918125, 1.4413157894736837, 1.4515555555555548, 1.9086666666666658, 1.3480184331797225], \"type\": \"scatter\", \"uid\": \"4c8bad02-f8f9-4c57-aa9a-0c4eaf2b29f1\"}], {\"paper_bgcolor\": \"rgb(243, 243, 243)\", \"plot_bgcolor\": \"rgb(243, 243, 243)\", \"title\": {\"text\": \"Averages by End Day, Sold & Unsold\"}}, {\"showLink\": false, \"linkText\": \"Export to plot.ly\", \"plotlyServerURL\": \"https://plot.ly\"})});</script><script type=\"text/javascript\">window.addEventListener(\"resize\", function(){window._Plotly.Plots.resize(document.getElementById(\"7466058e-64cf-400c-b20e-a8226e01ea95\"));});</script>"
      ],
      "text/vnd.plotly.v1+html": [
       "<div id=\"7466058e-64cf-400c-b20e-a8226e01ea95\" style=\"height: 525px; width: 100%;\" class=\"plotly-graph-div\"></div><script type=\"text/javascript\">require([\"plotly\"], function(Plotly) { window.PLOTLYENV=window.PLOTLYENV || {};window.PLOTLYENV.BASE_URL=\"https://plot.ly\";Plotly.newPlot(\"7466058e-64cf-400c-b20e-a8226e01ea95\", [{\"line\": {\"color\": \"#0c0c0c\"}, \"name\": \"Coins Sold\", \"opacity\": 0.8, \"x\": [\"Friday\", \"Monday\", \"Saturday\", \"Sunday\", \"Thursday\", \"Tuesday\", \"Wednesday\"], \"y\": [181, 195, 323, 415, 203, 186, 183], \"type\": \"scatter\", \"uid\": \"87d12f9b-9c91-4129-920c-462f2e0d1263\"}, {\"line\": {\"color\": \"#4daf50\"}, \"name\": \"Price Sold\", \"opacity\": 0.8, \"x\": [\"Friday\", \"Monday\", \"Saturday\", \"Sunday\", \"Thursday\", \"Tuesday\", \"Wednesday\"], \"y\": [96.95718232044207, 117.33882051282066, 99.88712074303419, 122.62122891566239, 259.9288177339898, 176.17505376344104, 111.72196721311487], \"type\": \"scatter\", \"uid\": \"060111f4-b688-45a8-90e0-17803b9f0612\"}, {\"line\": {\"color\": \"#edef86\"}, \"name\": \"Title Length Sold\", \"opacity\": 0.8, \"x\": [\"Friday\", \"Monday\", \"Saturday\", \"Sunday\", \"Thursday\", \"Tuesday\", \"Wednesday\"], \"y\": [57.6243093922652, 54.34871794871795, 56.36842105263158, 57.63373493975904, 56.80788177339902, 57.48924731182796, 55.15300546448088], \"type\": \"scatter\", \"uid\": \"ebff9a51-5f49-41e0-9fff-48ac4c8ada07\"}, {\"line\": {\"color\": \"#8ee0ed\"}, \"name\": \"Shipping Sold\", \"opacity\": 0.8, \"x\": [\"Friday\", \"Monday\", \"Saturday\", \"Sunday\", \"Thursday\", \"Tuesday\", \"Wednesday\"], \"y\": [2.0822099447513827, 1.924820512820513, 2.7383900928792593, 2.2698795180722917, 2.0998522167487694, 2.2375268817204303, 2.004863387978143], \"type\": \"scatter\", \"uid\": \"33a580e8-4d2c-4d8f-af08-0e36d37a7d27\"}, {\"line\": {\"color\": \"#af584c\"}, \"name\": \"Price Unsold\", \"opacity\": 0.8, \"x\": [\"Friday\", \"Monday\", \"Saturday\", \"Sunday\", \"Thursday\", \"Tuesday\", \"Wednesday\"], \"y\": [284.18684466019414, 302.55498181818183, 329.74684210526317, 326.1914473684208, 211.9786111111112, 216.770153846154, 292.6487096774191], \"type\": \"scatter\", \"uid\": \"acdc8a6c-a9ac-4596-a5cf-83dc6e7c433e\"}, {\"line\": {\"color\": \"#a0a0a0\"}, \"name\": \"Coins Unsold\", \"opacity\": 0.8, \"x\": [\"Friday\", \"Monday\", \"Saturday\", \"Sunday\", \"Thursday\", \"Tuesday\", \"Wednesday\"], \"y\": [206, 275, 171, 228, 180, 195, 217], \"type\": \"scatter\", \"uid\": \"c880b08f-b4fa-4a12-b0f9-3b5e172ad07d\"}, {\"line\": {\"color\": \"#f1afa1\"}, \"name\": \"Title Length Unsold\", \"opacity\": 0.8, \"x\": [\"Friday\", \"Monday\", \"Saturday\", \"Sunday\", \"Thursday\", \"Tuesday\", \"Wednesday\"], \"y\": [59.50970873786408, 57.36, 63.53216374269006, 60.59649122807018, 59.59444444444444, 60.59487179487179, 58.944700460829495], \"type\": \"scatter\", \"uid\": \"b8b8410a-65f2-4c5d-9e72-eabd5ea4639d\"}, {\"line\": {\"color\": \"#dbf7fc\"}, \"name\": \"Shipping Unsold\", \"opacity\": 0.8, \"x\": [\"Friday\", \"Monday\", \"Saturday\", \"Sunday\", \"Thursday\", \"Tuesday\", \"Wednesday\"], \"y\": [2.300679611650484, 1.5743272727272717, 1.2270760233918125, 1.4413157894736837, 1.4515555555555548, 1.9086666666666658, 1.3480184331797225], \"type\": \"scatter\", \"uid\": \"4c8bad02-f8f9-4c57-aa9a-0c4eaf2b29f1\"}], {\"paper_bgcolor\": \"rgb(243, 243, 243)\", \"plot_bgcolor\": \"rgb(243, 243, 243)\", \"title\": {\"text\": \"Averages by End Day, Sold & Unsold\"}}, {\"showLink\": false, \"linkText\": \"Export to plot.ly\", \"plotlyServerURL\": \"https://plot.ly\"})});</script><script type=\"text/javascript\">window.addEventListener(\"resize\", function(){window._Plotly.Plots.resize(document.getElementById(\"7466058e-64cf-400c-b20e-a8226e01ea95\"));});</script>"
      ]
     },
     "metadata": {},
     "output_type": "display_data"
    }
   ],
   "source": [
    "# Visualize Weely Patterns\n",
    "\n",
    "trace1 = go.Scatter(\n",
    "    x=df_days_cs.Sale_Day,\n",
    "    y=df_days_cs.Coin_Date,\n",
    "    line= dict(color= '#0c0c0c'),\n",
    "    name= 'Coins Sold',\n",
    "    opacity = .8)\n",
    "\n",
    "trace2 = go.Scatter(\n",
    "    x=df_days_ms.Sale_Day,\n",
    "    y=df_days_ms['Price_+_Shipping'],\n",
    "    line = dict(color='#4daf50'),\n",
    "    name= 'Price Sold',\n",
    "    opacity = .8)\n",
    "\n",
    "trace3 = go.Scatter(\n",
    "    x=df_days_ms.Sale_Day,\n",
    "    y=df_days_ms['Title_Length'],\n",
    "    line = dict(color='#edef86'),\n",
    "    name= 'Title Length Sold',\n",
    "    opacity = .8)\n",
    "\n",
    "trace4 = go.Scatter(\n",
    "    x=df_days_ms.Sale_Day,\n",
    "    y=df_days_ms['Shipping'],\n",
    "    line = dict(color='#8ee0ed'),\n",
    "    name= 'Shipping Sold',\n",
    "    opacity = .8)\n",
    "\n",
    "trace5 = go.Scatter(\n",
    "    x=df_days_mu.Sale_Day,\n",
    "    y=df_days_mu['Price_+_Shipping'],\n",
    "    line = dict(color='#af584c'),\n",
    "    name= 'Price Unsold',\n",
    "    opacity = .8)\n",
    "\n",
    "trace6 = go.Scatter(\n",
    "    x=df_days_cu.Sale_Day,\n",
    "    y=df_days_cu.Coin_Date,\n",
    "    line= dict(color= '#a0a0a0'),\n",
    "    name= 'Coins Unsold',\n",
    "    opacity = .8)\n",
    "\n",
    "trace7 = go.Scatter(\n",
    "    x=df_days_mu.Sale_Day,\n",
    "    y=df_days_mu['Title_Length'],\n",
    "    line = dict(color='#f1afa1'),\n",
    "    name= 'Title Length Unsold',\n",
    "    opacity = .8)\n",
    "\n",
    "trace8 = go.Scatter(\n",
    "    x=df_days_mu.Sale_Day,\n",
    "    y=df_days_mu['Shipping'],\n",
    "    line = dict(color='#dbf7fc'),\n",
    "    name= 'Shipping Unsold',\n",
    "    opacity = .8)\n",
    "\n",
    "data= [trace1, trace2, trace3, trace4, trace5, trace6, trace7, trace8]\n",
    "\n",
    "layout = dict(\n",
    "        title = 'Averages by End Day, Sold & Unsold',\n",
    "        paper_bgcolor='rgb(243, 243, 243)',\n",
    "        plot_bgcolor='rgb(243, 243, 243)'\n",
    ")\n",
    "\n",
    "fig= dict(data=data, layout=layout)\n",
    "iplot(fig, filename = 'Averages by End Day, Sold & Unsold')"
   ]
  },
  {
   "cell_type": "code",
   "execution_count": 130,
   "metadata": {
    "scrolled": true
   },
   "outputs": [],
   "source": [
    "# Elimitate high value coins\n",
    "\n",
    "# Get rows where Price_+_Shipping is greater than 1000\n",
    "indexNames = df_sold[df_sold['Price_+_Shipping'] > 500 ].index\n",
    "\n",
    "# Delete these row indexes from dataFrame\n",
    "\n",
    "df_sold.drop(indexNames , inplace=True)"
   ]
  },
  {
   "cell_type": "code",
   "execution_count": 131,
   "metadata": {},
   "outputs": [],
   "source": [
    "# Create lists of data by day\n",
    "Monday = list(df_sold.loc[df_sold['Sale_Day'] == 'Monday']['Price_+_Shipping'])\n",
    "Tuesday = list(df_sold.loc[df_sold['Sale_Day'] == 'Tuesday']['Price_+_Shipping'])\n",
    "Wednesday = list(df_sold.loc[df_sold['Sale_Day'] == 'Wednesday']['Price_+_Shipping'])\n",
    "Thursday = list(df_sold.loc[df_sold['Sale_Day'] == 'Thursday']['Price_+_Shipping'])\n",
    "Friday = list(df_sold.loc[df_sold['Sale_Day'] == 'Friday']['Price_+_Shipping'])\n",
    "Saturday = list(df_sold.loc[df_sold['Sale_Day'] == 'Saturday']['Price_+_Shipping'])\n",
    "Sunday = list(df_sold.loc[df_sold['Sale_Day'] == 'Sunday']['Price_+_Shipping'])"
   ]
  },
  {
   "cell_type": "code",
   "execution_count": 134,
   "metadata": {},
   "outputs": [
    {
     "data": {
      "text/html": [
       "<iframe id=\"igraph\" scrolling=\"no\" style=\"border:none;\" seamless=\"seamless\" src=\"https://plot.ly/~daniellomeland/165.embed\" height=\"525px\" width=\"100%\"></iframe>"
      ],
      "text/plain": [
       "<plotly.tools.PlotlyDisplay object>"
      ]
     },
     "execution_count": 134,
     "metadata": {},
     "output_type": "execute_result"
    }
   ],
   "source": [
    "import plotly.plotly as py\n",
    "import plotly.graph_objs as go\n",
    "\n",
    "x_data = ['Monday', 'Tuesday', 'Wednesday', 'Thursday',\n",
    "          'Friday', 'Saturday', 'Sunday']\n",
    "\n",
    "y0 = Monday\n",
    "y1 = Tuesday\n",
    "y2 = Wednesday\n",
    "y3 = Thursday\n",
    "y4 = Friday\n",
    "y5 = Saturday\n",
    "y6 = Sunday\n",
    "\n",
    "y_data = [y0,y1,y2,y3,y4,y5,y6]\n",
    "\n",
    "colors = ['#b2c8ff', '#b2fff6', '#b2ffdb', '#c2ffb2',\n",
    "          '#eeffb2', '#fff3b2','#ffd2b2','#ffb2b2']\n",
    "\n",
    "traces = []\n",
    "\n",
    "for xd, yd, cls in zip(x_data, y_data, colors):\n",
    "        traces.append(go.Box(\n",
    "            y=yd,\n",
    "            name=xd,\n",
    "            boxpoints='all',\n",
    "            jitter=0.5,\n",
    "            whiskerwidth=0.2,\n",
    "            fillcolor=cls,\n",
    "            marker=dict(\n",
    "                size=2,\n",
    "            ),\n",
    "            line=dict(width=1),\n",
    "        ))\n",
    "\n",
    "layout = go.Layout(\n",
    "    title='Sub $500 Sales by End Day',\n",
    "    yaxis=dict(\n",
    "        autorange=True,\n",
    "        showgrid=True,\n",
    "        zeroline=True,\n",
    "        dtick=50,\n",
    "        gridcolor='rgb(255, 255, 255)',\n",
    "        gridwidth=1,\n",
    "        zerolinecolor='rgb(255, 255, 255)',\n",
    "        zerolinewidth=2,\n",
    "    ),\n",
    "    margin=dict(\n",
    "        l=40,\n",
    "        r=30,\n",
    "        b=80,\n",
    "        t=100,\n",
    "    ),\n",
    "    paper_bgcolor='rgb(243, 243, 243)',\n",
    "    plot_bgcolor='rgb(243, 243, 243)',\n",
    "    showlegend=False\n",
    ")\n",
    "\n",
    "fig = go.Figure(data=traces, layout=layout)\n",
    "py.iplot(fig)"
   ]
  },
  {
   "cell_type": "markdown",
   "metadata": {},
   "source": [
    "<Br>\n",
    "    <Br>\n",
    "        <Br>\n",
    "# <center> Shipping Prices\n",
    "<Br>\n",
    "<Br>\n",
    "<Br>"
   ]
  },
  {
   "cell_type": "code",
   "execution_count": 205,
   "metadata": {},
   "outputs": [
    {
     "data": {
      "text/html": [
       "<div>\n",
       "<style scoped>\n",
       "    .dataframe tbody tr th:only-of-type {\n",
       "        vertical-align: middle;\n",
       "    }\n",
       "\n",
       "    .dataframe tbody tr th {\n",
       "        vertical-align: top;\n",
       "    }\n",
       "\n",
       "    .dataframe thead th {\n",
       "        text-align: right;\n",
       "    }\n",
       "</style>\n",
       "<table border=\"1\" class=\"dataframe\">\n",
       "  <thead>\n",
       "    <tr style=\"text-align: right;\">\n",
       "      <th></th>\n",
       "      <th>Shipping_Bins</th>\n",
       "      <th>count</th>\n",
       "    </tr>\n",
       "  </thead>\n",
       "  <tbody>\n",
       "    <tr>\n",
       "      <th>0</th>\n",
       "      <td>Free</td>\n",
       "      <td>629</td>\n",
       "    </tr>\n",
       "    <tr>\n",
       "      <th>1</th>\n",
       "      <td>$2.5-3</td>\n",
       "      <td>431</td>\n",
       "    </tr>\n",
       "    <tr>\n",
       "      <th>2</th>\n",
       "      <td>$3.5-4</td>\n",
       "      <td>382</td>\n",
       "    </tr>\n",
       "    <tr>\n",
       "      <th>3</th>\n",
       "      <td>$3-3.5</td>\n",
       "      <td>114</td>\n",
       "    </tr>\n",
       "    <tr>\n",
       "      <th>4</th>\n",
       "      <td>$1.5-2</td>\n",
       "      <td>44</td>\n",
       "    </tr>\n",
       "    <tr>\n",
       "      <th>5</th>\n",
       "      <td>$4.5-5</td>\n",
       "      <td>38</td>\n",
       "    </tr>\n",
       "    <tr>\n",
       "      <th>6</th>\n",
       "      <td>Over $5</td>\n",
       "      <td>34</td>\n",
       "    </tr>\n",
       "    <tr>\n",
       "      <th>7</th>\n",
       "      <td>$4-4.5</td>\n",
       "      <td>8</td>\n",
       "    </tr>\n",
       "    <tr>\n",
       "      <th>8</th>\n",
       "      <td>$2-2.5</td>\n",
       "      <td>3</td>\n",
       "    </tr>\n",
       "    <tr>\n",
       "      <th>9</th>\n",
       "      <td>$.5-1</td>\n",
       "      <td>3</td>\n",
       "    </tr>\n",
       "    <tr>\n",
       "      <th>10</th>\n",
       "      <td>$1-1.5</td>\n",
       "      <td>0</td>\n",
       "    </tr>\n",
       "    <tr>\n",
       "      <th>11</th>\n",
       "      <td>$0-.5</td>\n",
       "      <td>0</td>\n",
       "    </tr>\n",
       "  </tbody>\n",
       "</table>\n",
       "</div>"
      ],
      "text/plain": [
       "   Shipping_Bins  count\n",
       "0           Free    629\n",
       "1         $2.5-3    431\n",
       "2         $3.5-4    382\n",
       "3         $3-3.5    114\n",
       "4         $1.5-2     44\n",
       "5         $4.5-5     38\n",
       "6        Over $5     34\n",
       "7         $4-4.5      8\n",
       "8         $2-2.5      3\n",
       "9          $.5-1      3\n",
       "10        $1-1.5      0\n",
       "11         $0-.5      0"
      ]
     },
     "execution_count": 205,
     "metadata": {},
     "output_type": "execute_result"
    }
   ],
   "source": [
    "# Create Shipping Bins\n",
    "shipping_df = df_sold[['Price','Shipping']]\n",
    "bins = [-1,0,.5,1,1.5,2,2.5,3,3.5,4,4.5,5,100]\n",
    "labels =['Free','$0-.5','$.5-1','$1-1.5','$1.5-2','$2-2.5',\n",
    "         '$2.5-3','$3-3.5','$3.5-4','$4-4.5','$4.5-5','Over $5']\n",
    "shipping_df['Shipping_Bins'] = pd.cut(shipping_df['Shipping'], bins, labels= labels)\n",
    "\n",
    "# Get count of shipping\n",
    "shipping = shipping_df['Shipping_Bins'].value_counts()\n",
    "\n",
    "# Create dataframe\n",
    "ship_df = shipping.rename_axis('Shipping_Bins').reset_index(name='count')\n",
    "ship_df"
   ]
  },
  {
   "cell_type": "code",
   "execution_count": 159,
   "metadata": {
    "scrolled": true
   },
   "outputs": [
    {
     "data": {
      "text/html": [
       "<iframe id=\"igraph\" scrolling=\"no\" style=\"border:none;\" seamless=\"seamless\" src=\"https://plot.ly/~daniellomeland/148.embed\" height=\"525px\" width=\"100%\"></iframe>"
      ],
      "text/plain": [
       "<plotly.tools.PlotlyDisplay object>"
      ]
     },
     "execution_count": 159,
     "metadata": {},
     "output_type": "execute_result"
    }
   ],
   "source": [
    "# Visualize Shipping Costs by range\n",
    "trace0 = go.Bar(\n",
    "    x=ship_df.Shipping_Bins,\n",
    "    y=list(ship_df['count']),\n",
    "    text= list(ship_df['count']),\n",
    "    textposition = 'auto',\n",
    "    marker=dict(\n",
    "        color='#b2d356',\n",
    "        line=dict(\n",
    "            color='#55d281',\n",
    "            width=1.5,\n",
    "        )\n",
    "    ),\n",
    "    opacity=0.6\n",
    ")\n",
    "\n",
    "data = [trace0]\n",
    "layout = go.Layout(\n",
    "    title=' Most Common Shipping Costs',\n",
    "    paper_bgcolor='rgb(243, 243, 243)',\n",
    "    plot_bgcolor='rgb(243, 243, 243)'\n",
    ")\n",
    "\n",
    "fig = go.Figure(data=data, layout=layout)\n",
    "py.iplot(fig, filename='Shipping Costs')"
   ]
  }
 ],
 "metadata": {
  "kernelspec": {
   "display_name": "ut_data",
   "language": "python",
   "name": "ut_data"
  },
  "language_info": {
   "codemirror_mode": {
    "name": "ipython",
    "version": 3
   },
   "file_extension": ".py",
   "mimetype": "text/x-python",
   "name": "python",
   "nbconvert_exporter": "python",
   "pygments_lexer": "ipython3",
   "version": "3.7.2"
  }
 },
 "nbformat": 4,
 "nbformat_minor": 2
}
