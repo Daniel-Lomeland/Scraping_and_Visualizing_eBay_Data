{
 "cells": [
  {
   "cell_type": "code",
   "execution_count": 10,
   "metadata": {},
   "outputs": [
    {
     "data": {
      "text/html": [
       "<script type=\"text/javascript\">window.PlotlyConfig = {MathJaxConfig: 'local'};</script><script type=\"text/javascript\">if (window.MathJax) {MathJax.Hub.Config({SVG: {font: \"STIX-Web\"}});}</script><script>requirejs.config({paths: { 'plotly': ['https://cdn.plot.ly/plotly-latest.min']},});if(!window._Plotly) {require(['plotly'],function(plotly) {window._Plotly=plotly;});}</script>"
      ],
      "text/vnd.plotly.v1+html": [
       "<script type=\"text/javascript\">window.PlotlyConfig = {MathJaxConfig: 'local'};</script><script type=\"text/javascript\">if (window.MathJax) {MathJax.Hub.Config({SVG: {font: \"STIX-Web\"}});}</script><script>requirejs.config({paths: { 'plotly': ['https://cdn.plot.ly/plotly-latest.min']},});if(!window._Plotly) {require(['plotly'],function(plotly) {window._Plotly=plotly;});}</script>"
      ]
     },
     "metadata": {},
     "output_type": "display_data"
    }
   ],
   "source": [
    "import pandas as pd\n",
    "import numpy as np\n",
    "# import scipy as sp\n",
    "import plotly\n",
    "import plotly.plotly as py\n",
    "import plotly.graph_objs as go\n",
    "from plotly.offline import download_plotlyjs, init_notebook_mode, plot, iplot\n",
    "import warnings\n",
    "warnings.filterwarnings('ignore')\n",
    "plotly.tools.set_credentials_file(username= 'dlomeland', api_key='UUwQ7YcgjbePoDfIEY1m')\n",
    "\n",
    "# Jupyter startup\n",
    "init_notebook_mode(connected=True)"
   ]
  },
  {
   "cell_type": "code",
   "execution_count": 2,
   "metadata": {},
   "outputs": [
    {
     "data": {
      "text/html": [
       "<div>\n",
       "<style scoped>\n",
       "    .dataframe tbody tr th:only-of-type {\n",
       "        vertical-align: middle;\n",
       "    }\n",
       "\n",
       "    .dataframe tbody tr th {\n",
       "        vertical-align: top;\n",
       "    }\n",
       "\n",
       "    .dataframe thead th {\n",
       "        text-align: right;\n",
       "    }\n",
       "</style>\n",
       "<table border=\"1\" class=\"dataframe\">\n",
       "  <thead>\n",
       "    <tr style=\"text-align: right;\">\n",
       "      <th></th>\n",
       "      <th>Unnamed: 0</th>\n",
       "      <th>Coin_Date</th>\n",
       "      <th>Mint</th>\n",
       "      <th>Grader</th>\n",
       "      <th>CAC</th>\n",
       "      <th>Price_+_Shipping</th>\n",
       "      <th>Price</th>\n",
       "      <th>Shipping</th>\n",
       "      <th>Bids</th>\n",
       "      <th>Result</th>\n",
       "      <th>Free_Returns</th>\n",
       "      <th>Top_Rated_Plus</th>\n",
       "      <th>Format</th>\n",
       "      <th>Best_Offer_Accepted</th>\n",
       "      <th>Title_Length</th>\n",
       "      <th>Sale_Time</th>\n",
       "      <th>Sale_Day</th>\n",
       "      <th>Sale_Date</th>\n",
       "      <th>Sale_Year</th>\n",
       "      <th>Time_Stamp</th>\n",
       "    </tr>\n",
       "  </thead>\n",
       "  <tbody>\n",
       "    <tr>\n",
       "      <th>0</th>\n",
       "      <td>0</td>\n",
       "      <td>1949</td>\n",
       "      <td>S</td>\n",
       "      <td>NGC</td>\n",
       "      <td></td>\n",
       "      <td>132.0</td>\n",
       "      <td>132.0</td>\n",
       "      <td>0.0</td>\n",
       "      <td>-</td>\n",
       "      <td>Sold</td>\n",
       "      <td>Yes</td>\n",
       "      <td>No</td>\n",
       "      <td>Buy_it_now</td>\n",
       "      <td>Yes</td>\n",
       "      <td>67</td>\n",
       "      <td>23:40</td>\n",
       "      <td>Monday</td>\n",
       "      <td>Feb-18</td>\n",
       "      <td>2019</td>\n",
       "      <td>2019-02-18</td>\n",
       "    </tr>\n",
       "    <tr>\n",
       "      <th>1</th>\n",
       "      <td>1</td>\n",
       "      <td>1953</td>\n",
       "      <td>S</td>\n",
       "      <td>NGC</td>\n",
       "      <td></td>\n",
       "      <td>128.0</td>\n",
       "      <td>128.0</td>\n",
       "      <td>0.0</td>\n",
       "      <td>-</td>\n",
       "      <td>Sold</td>\n",
       "      <td>Yes</td>\n",
       "      <td>No</td>\n",
       "      <td>Buy_it_now</td>\n",
       "      <td>Yes</td>\n",
       "      <td>67</td>\n",
       "      <td>23:39</td>\n",
       "      <td>Monday</td>\n",
       "      <td>Feb-18</td>\n",
       "      <td>2019</td>\n",
       "      <td>2019-02-18</td>\n",
       "    </tr>\n",
       "    <tr>\n",
       "      <th>2</th>\n",
       "      <td>2</td>\n",
       "      <td>1953</td>\n",
       "      <td>S</td>\n",
       "      <td>PCGS</td>\n",
       "      <td></td>\n",
       "      <td>146.0</td>\n",
       "      <td>146.0</td>\n",
       "      <td>0.0</td>\n",
       "      <td>-</td>\n",
       "      <td>Sold</td>\n",
       "      <td>Yes</td>\n",
       "      <td>No</td>\n",
       "      <td>Buy_it_now</td>\n",
       "      <td>Yes</td>\n",
       "      <td>57</td>\n",
       "      <td>23:36</td>\n",
       "      <td>Monday</td>\n",
       "      <td>Feb-18</td>\n",
       "      <td>2019</td>\n",
       "      <td>2019-02-18</td>\n",
       "    </tr>\n",
       "  </tbody>\n",
       "</table>\n",
       "</div>"
      ],
      "text/plain": [
       "   Unnamed: 0  Coin_Date Mint Grader CAC  Price_+_Shipping  Price  Shipping  \\\n",
       "0           0       1949    S    NGC                 132.0  132.0       0.0   \n",
       "1           1       1953    S    NGC                 128.0  128.0       0.0   \n",
       "2           2       1953    S   PCGS                 146.0  146.0       0.0   \n",
       "\n",
       "  Bids Result Free_Returns Top_Rated_Plus      Format Best_Offer_Accepted  \\\n",
       "0    -   Sold          Yes             No  Buy_it_now                 Yes   \n",
       "1    -   Sold          Yes             No  Buy_it_now                 Yes   \n",
       "2    -   Sold          Yes             No  Buy_it_now                 Yes   \n",
       "\n",
       "   Title_Length Sale_Time Sale_Day Sale_Date  Sale_Year  Time_Stamp  \n",
       "0            67     23:40   Monday    Feb-18       2019  2019-02-18  \n",
       "1            67     23:39   Monday    Feb-18       2019  2019-02-18  \n",
       "2            57     23:36   Monday    Feb-18       2019  2019-02-18  "
      ]
     },
     "execution_count": 2,
     "metadata": {},
     "output_type": "execute_result"
    }
   ],
   "source": [
    "df = pd.read_csv('Data/sold_MS67_Cents.csv')\n",
    "df.head(3)"
   ]
  },
  {
   "cell_type": "code",
   "execution_count": 143,
   "metadata": {},
   "outputs": [
    {
     "data": {
      "text/html": [
       "<div>\n",
       "<style scoped>\n",
       "    .dataframe tbody tr th:only-of-type {\n",
       "        vertical-align: middle;\n",
       "    }\n",
       "\n",
       "    .dataframe tbody tr th {\n",
       "        vertical-align: top;\n",
       "    }\n",
       "\n",
       "    .dataframe thead th {\n",
       "        text-align: right;\n",
       "    }\n",
       "</style>\n",
       "<table border=\"1\" class=\"dataframe\">\n",
       "  <thead>\n",
       "    <tr style=\"text-align: right;\">\n",
       "      <th></th>\n",
       "      <th>Coin</th>\n",
       "      <th>Price_+_Shipping</th>\n",
       "      <th>Price</th>\n",
       "      <th>Shipping</th>\n",
       "      <th>Title_Length</th>\n",
       "    </tr>\n",
       "  </thead>\n",
       "  <tbody>\n",
       "    <tr>\n",
       "      <th>0</th>\n",
       "      <td>1935   PCGS</td>\n",
       "      <td>175.00</td>\n",
       "      <td>175.00</td>\n",
       "      <td>0.0</td>\n",
       "      <td>76.0</td>\n",
       "    </tr>\n",
       "    <tr>\n",
       "      <th>1</th>\n",
       "      <td>1936   PCGS</td>\n",
       "      <td>207.50</td>\n",
       "      <td>207.50</td>\n",
       "      <td>0.0</td>\n",
       "      <td>79.0</td>\n",
       "    </tr>\n",
       "    <tr>\n",
       "      <th>2</th>\n",
       "      <td>1936 S PCGS</td>\n",
       "      <td>525.00</td>\n",
       "      <td>525.00</td>\n",
       "      <td>0.0</td>\n",
       "      <td>59.0</td>\n",
       "    </tr>\n",
       "    <tr>\n",
       "      <th>3</th>\n",
       "      <td>1937   PCGS</td>\n",
       "      <td>136.00</td>\n",
       "      <td>136.00</td>\n",
       "      <td>0.0</td>\n",
       "      <td>57.0</td>\n",
       "    </tr>\n",
       "    <tr>\n",
       "      <th>4</th>\n",
       "      <td>1937 D NGC</td>\n",
       "      <td>77.99</td>\n",
       "      <td>77.99</td>\n",
       "      <td>0.0</td>\n",
       "      <td>30.0</td>\n",
       "    </tr>\n",
       "  </tbody>\n",
       "</table>\n",
       "</div>"
      ],
      "text/plain": [
       "          Coin  Price_+_Shipping   Price  Shipping  Title_Length\n",
       "0  1935   PCGS            175.00  175.00       0.0          76.0\n",
       "1  1936   PCGS            207.50  207.50       0.0          79.0\n",
       "2  1936 S PCGS            525.00  525.00       0.0          59.0\n",
       "3  1937   PCGS            136.00  136.00       0.0          57.0\n",
       "4   1937 D NGC             77.99   77.99       0.0          30.0"
      ]
     },
     "execution_count": 143,
     "metadata": {},
     "output_type": "execute_result"
    }
   ],
   "source": [
    "# Create column with uniqe coin characteristics\n",
    "df['Coin'] = df.Coin_Date.map(str)+ \" \" + df.Mint + \" \" + df.Grader\n",
    "\n",
    "# Group by Coin\n",
    "coin_prices_df = df1.groupby(['Coin'], as_index=False).mean()\n",
    "coin_prices_df.head()"
   ]
  },
  {
   "cell_type": "markdown",
   "metadata": {},
   "source": [
    "<Br>\n",
    "<Br>\n",
    "\n",
    "# <center> Sale Prices\n",
    "\n",
    "\n",
    "<Br>\n",
    "<Br>\n",
    "<Br>"
   ]
  },
  {
   "cell_type": "code",
   "execution_count": 142,
   "metadata": {
    "scrolled": false
   },
   "outputs": [
    {
     "data": {
      "text/html": [
       "<iframe id=\"igraph\" scrolling=\"no\" style=\"border:none;\" seamless=\"seamless\" src=\"https://plot.ly/~dlomeland/18.embed\" height=\"525px\" width=\"100%\"></iframe>"
      ],
      "text/plain": [
       "<plotly.tools.PlotlyDisplay object>"
      ]
     },
     "execution_count": 142,
     "metadata": {},
     "output_type": "execute_result"
    }
   ],
   "source": [
    "\n",
    "trace0 = go.Bar(\n",
    "    x=coin_prices_df['Coin'],\n",
    "    y=coin_prices_df['Price_+_Shipping'],\n",
    "    text= coin_prices_df['Coin'],\n",
    "    marker=dict(\n",
    "        color='rgb(158,202,225)',\n",
    "        line=dict(\n",
    "            color='#b495ed',\n",
    "            width=1.5,\n",
    "        )\n",
    "    ),\n",
    "    opacity=0.6\n",
    ")\n",
    "\n",
    "data = [trace0]\n",
    "layout = go.Layout(\n",
    "    title=' Avg Sale Prices',\n",
    ")\n",
    "\n",
    "fig = go.Figure(data=data, layout=layout)\n",
    "py.iplot(fig, filename='text-hover-bar')"
   ]
  },
  {
   "cell_type": "markdown",
   "metadata": {},
   "source": [
    "<Br>\n",
    "<Br>\n",
    "\n",
    "# <center> Weekly Sales Patterns\n",
    "\n",
    "<Br>\n",
    "<Br>\n",
    "<Br>"
   ]
  },
  {
   "cell_type": "code",
   "execution_count": 140,
   "metadata": {},
   "outputs": [
    {
     "data": {
      "text/html": [
       "<iframe id=\"igraph\" scrolling=\"no\" style=\"border:none;\" seamless=\"seamless\" src=\"https://plot.ly/~dlomeland/16.embed\" height=\"525px\" width=\"100%\"></iframe>"
      ],
      "text/plain": [
       "<plotly.tools.PlotlyDisplay object>"
      ]
     },
     "execution_count": 140,
     "metadata": {},
     "output_type": "execute_result"
    }
   ],
   "source": [
    "# Days of week by counts\n",
    "days_df1 = df.groupby(['Sale_Day'], as_index=False).count()\n",
    "\n",
    "# Visualize Grader count\n",
    "labels = days_df1['Sale_Day']\n",
    "values = days_df1['Coin_Date']\n",
    "colors = ['#FEBFB3', '#E1396C', '#96D38C']\n",
    "\n",
    "trace = go.Pie(labels=labels, values=values,\n",
    "               hoverinfo='label+percent', textinfo='label+value', \n",
    "               textfont=dict(size=20),\n",
    "               marker=dict(colors=colors, \n",
    "                           line=dict(color='#000000', width=2)))\n",
    "\n",
    "py.iplot([trace], filename='Sales_by_Day')"
   ]
  },
  {
   "cell_type": "code",
   "execution_count": 141,
   "metadata": {
    "scrolled": false
   },
   "outputs": [
    {
     "data": {
      "application/vnd.plotly.v1+json": {
       "config": {
        "linkText": "Export to plot.ly",
        "plotlyServerURL": "https://plot.ly",
        "showLink": false
       },
       "data": [
        {
         "line": {
          "color": "#7F7F7F"
         },
         "name": "Number of coins sold",
         "opacity": 0.8,
         "type": "scatter",
         "uid": "8d6bd6d5-0ae7-4709-a40f-258a67b0093d",
         "x": [
          "Friday",
          "Monday",
          "Saturday",
          "Sunday",
          "Thursday",
          "Tuesday",
          "Wednesday"
         ],
         "y": [
          16,
          14,
          9,
          63,
          18,
          11,
          14
         ]
        },
        {
         "line": {
          "color": "#17BECF"
         },
         "name": "Avg Selling Price",
         "opacity": 0.8,
         "type": "scatter",
         "uid": "bf7ef428-0bdf-4f90-a983-8562e1fb9c25",
         "x": [
          "Friday",
          "Monday",
          "Saturday",
          "Sunday",
          "Thursday",
          "Tuesday",
          "Wednesday"
         ],
         "y": [
          76.229375,
          152.55571428571426,
          235.6222222222222,
          79.74412698412696,
          85.94055555555556,
          120.40363636363637,
          90.39428571428572
         ]
        },
        {
         "line": {
          "color": "#cc4545"
         },
         "name": "Avg Title Length",
         "opacity": 0.8,
         "type": "scatter",
         "uid": "5d5be257-4424-4bb6-96b8-ad062007a5a6",
         "x": [
          "Friday",
          "Monday",
          "Saturday",
          "Sunday",
          "Thursday",
          "Tuesday",
          "Wednesday"
         ],
         "y": [
          56.5625,
          61.92857142857143,
          70,
          57.06349206349206,
          52.94444444444444,
          55.18181818181818,
          55.714285714285715
         ]
        },
        {
         "line": {
          "color": "#cc4545"
         },
         "name": "Avg Shipping Cost",
         "opacity": 0.8,
         "type": "scatter",
         "uid": "29c7bf8a-ef37-488e-8789-cb06a56c366d",
         "x": [
          "Friday",
          "Monday",
          "Saturday",
          "Sunday",
          "Thursday",
          "Tuesday",
          "Wednesday"
         ],
         "y": [
          2.404375,
          0.6835714285714286,
          1.9933333333333332,
          2.7195238095238095,
          2.0366666666666666,
          1.319090909090909,
          1.1199999999999999
         ]
        }
       ],
       "layout": {
        "title": {
         "text": "Title Length and Mean Prices"
        }
       }
      },
      "text/html": [
       "<div id=\"ac673870-85e0-4219-848a-23d8e22434ff\" style=\"height: 525px; width: 100%;\" class=\"plotly-graph-div\"></div><script type=\"text/javascript\">require([\"plotly\"], function(Plotly) { window.PLOTLYENV=window.PLOTLYENV || {};window.PLOTLYENV.BASE_URL=\"https://plot.ly\";Plotly.newPlot(\"ac673870-85e0-4219-848a-23d8e22434ff\", [{\"line\": {\"color\": \"#7F7F7F\"}, \"name\": \"Number of coins sold\", \"opacity\": 0.8, \"x\": [\"Friday\", \"Monday\", \"Saturday\", \"Sunday\", \"Thursday\", \"Tuesday\", \"Wednesday\"], \"y\": [16, 14, 9, 63, 18, 11, 14], \"type\": \"scatter\", \"uid\": \"f93404df-9606-48b5-be40-419635ed8d2a\"}, {\"line\": {\"color\": \"#17BECF\"}, \"name\": \"Avg Selling Price\", \"opacity\": 0.8, \"x\": [\"Friday\", \"Monday\", \"Saturday\", \"Sunday\", \"Thursday\", \"Tuesday\", \"Wednesday\"], \"y\": [76.229375, 152.55571428571426, 235.6222222222222, 79.74412698412696, 85.94055555555556, 120.40363636363637, 90.39428571428572], \"type\": \"scatter\", \"uid\": \"b5d5e2b5-1a2e-4bae-bbaa-f0d735a3b84c\"}, {\"line\": {\"color\": \"#cc4545\"}, \"name\": \"Avg Title Length\", \"opacity\": 0.8, \"x\": [\"Friday\", \"Monday\", \"Saturday\", \"Sunday\", \"Thursday\", \"Tuesday\", \"Wednesday\"], \"y\": [56.5625, 61.92857142857143, 70.0, 57.06349206349206, 52.94444444444444, 55.18181818181818, 55.714285714285715], \"type\": \"scatter\", \"uid\": \"261a7f2c-db5e-4561-bdc6-048855b46c8d\"}, {\"line\": {\"color\": \"#cc4545\"}, \"name\": \"Avg Shipping Cost\", \"opacity\": 0.8, \"x\": [\"Friday\", \"Monday\", \"Saturday\", \"Sunday\", \"Thursday\", \"Tuesday\", \"Wednesday\"], \"y\": [2.404375, 0.6835714285714286, 1.9933333333333332, 2.7195238095238095, 2.0366666666666666, 1.319090909090909, 1.1199999999999999], \"type\": \"scatter\", \"uid\": \"cd3b3fac-688d-4018-bcfa-10ee6a3d45a5\"}], {\"title\": {\"text\": \"Title Length and Mean Prices\"}}, {\"showLink\": false, \"linkText\": \"Export to plot.ly\", \"plotlyServerURL\": \"https://plot.ly\"})});</script><script type=\"text/javascript\">window.addEventListener(\"resize\", function(){window._Plotly.Plots.resize(document.getElementById(\"ac673870-85e0-4219-848a-23d8e22434ff\"));});</script>"
      ],
      "text/vnd.plotly.v1+html": [
       "<div id=\"ac673870-85e0-4219-848a-23d8e22434ff\" style=\"height: 525px; width: 100%;\" class=\"plotly-graph-div\"></div><script type=\"text/javascript\">require([\"plotly\"], function(Plotly) { window.PLOTLYENV=window.PLOTLYENV || {};window.PLOTLYENV.BASE_URL=\"https://plot.ly\";Plotly.newPlot(\"ac673870-85e0-4219-848a-23d8e22434ff\", [{\"line\": {\"color\": \"#7F7F7F\"}, \"name\": \"Number of coins sold\", \"opacity\": 0.8, \"x\": [\"Friday\", \"Monday\", \"Saturday\", \"Sunday\", \"Thursday\", \"Tuesday\", \"Wednesday\"], \"y\": [16, 14, 9, 63, 18, 11, 14], \"type\": \"scatter\", \"uid\": \"f93404df-9606-48b5-be40-419635ed8d2a\"}, {\"line\": {\"color\": \"#17BECF\"}, \"name\": \"Avg Selling Price\", \"opacity\": 0.8, \"x\": [\"Friday\", \"Monday\", \"Saturday\", \"Sunday\", \"Thursday\", \"Tuesday\", \"Wednesday\"], \"y\": [76.229375, 152.55571428571426, 235.6222222222222, 79.74412698412696, 85.94055555555556, 120.40363636363637, 90.39428571428572], \"type\": \"scatter\", \"uid\": \"b5d5e2b5-1a2e-4bae-bbaa-f0d735a3b84c\"}, {\"line\": {\"color\": \"#cc4545\"}, \"name\": \"Avg Title Length\", \"opacity\": 0.8, \"x\": [\"Friday\", \"Monday\", \"Saturday\", \"Sunday\", \"Thursday\", \"Tuesday\", \"Wednesday\"], \"y\": [56.5625, 61.92857142857143, 70.0, 57.06349206349206, 52.94444444444444, 55.18181818181818, 55.714285714285715], \"type\": \"scatter\", \"uid\": \"261a7f2c-db5e-4561-bdc6-048855b46c8d\"}, {\"line\": {\"color\": \"#cc4545\"}, \"name\": \"Avg Shipping Cost\", \"opacity\": 0.8, \"x\": [\"Friday\", \"Monday\", \"Saturday\", \"Sunday\", \"Thursday\", \"Tuesday\", \"Wednesday\"], \"y\": [2.404375, 0.6835714285714286, 1.9933333333333332, 2.7195238095238095, 2.0366666666666666, 1.319090909090909, 1.1199999999999999], \"type\": \"scatter\", \"uid\": \"cd3b3fac-688d-4018-bcfa-10ee6a3d45a5\"}], {\"title\": {\"text\": \"Title Length and Mean Prices\"}}, {\"showLink\": false, \"linkText\": \"Export to plot.ly\", \"plotlyServerURL\": \"https://plot.ly\"})});</script><script type=\"text/javascript\">window.addEventListener(\"resize\", function(){window._Plotly.Plots.resize(document.getElementById(\"ac673870-85e0-4219-848a-23d8e22434ff\"));});</script>"
      ]
     },
     "metadata": {},
     "output_type": "display_data"
    }
   ],
   "source": [
    "# Days of week by means\n",
    "days_df = df.groupby(['Sale_Day'], as_index=False).mean()\n",
    "\n",
    "# Visualize Weely Patterns\n",
    "trace2 = go.Scatter(\n",
    "    x=days_df.Sale_Day,\n",
    "    y=days_df['Price_+_Shipping'],\n",
    "    line = dict(color='#17BECF'),\n",
    "    name= 'Avg Selling Price',\n",
    "    opacity = .8)\n",
    "\n",
    "trace1 = go.Scatter(\n",
    "    x=days_df1.Sale_Day,\n",
    "    y=days_df1.Coin_Date,\n",
    "    line= dict(color= '#7F7F7F'),\n",
    "    name= 'Number of coins sold',\n",
    "    opacity = .8)\n",
    "\n",
    "trace3 = go.Scatter(\n",
    "    x=days_df.Sale_Day,\n",
    "    y=days_df['Title_Length'],\n",
    "    line = dict(color='#cc4545'),\n",
    "    name= 'Avg Title Length',\n",
    "    opacity = .8)\n",
    "\n",
    "trace4 = go.Scatter(\n",
    "    x=days_df.Sale_Day,\n",
    "    y=days_df['Shipping'],\n",
    "    line = dict(color='#cc4545'),\n",
    "    name= 'Avg Shipping Cost',\n",
    "    opacity = .8)\n",
    "\n",
    "data= [trace1, trace2, trace3, trace4]\n",
    "\n",
    "layout = dict(\n",
    "        title = 'Title Length and Mean Prices')\n",
    "\n",
    "fig= dict(data=data, layout=layout)\n",
    "iplot(fig, filename = 'eBay Data by Day')"
   ]
  },
  {
   "cell_type": "markdown",
   "metadata": {},
   "source": [
    "<Br>\n",
    "    <Br>\n",
    "        <Br>\n",
    "# <center> Coin Characteristics\n",
    "<Br>\n",
    "<Br>\n",
    "<Br>"
   ]
  },
  {
   "cell_type": "code",
   "execution_count": 137,
   "metadata": {},
   "outputs": [
    {
     "data": {
      "text/html": [
       "<iframe id=\"igraph\" scrolling=\"no\" style=\"border:none;\" seamless=\"seamless\" src=\"https://plot.ly/~dlomeland/22.embed\" height=\"525px\" width=\"100%\"></iframe>"
      ],
      "text/plain": [
       "<plotly.tools.PlotlyDisplay object>"
      ]
     },
     "execution_count": 137,
     "metadata": {},
     "output_type": "execute_result"
    }
   ],
   "source": [
    "# Create Bins For each Decade\n",
    "bins = [1900,1930,1940,1950,1960,1970,1980,1990,2000,2010,2020]\n",
    "labels =[\"pre-1930's\",\"1930's\",\"1940's\",\"1950's\",\"1960's\",\"1970's\",\n",
    "        \"1980's\",\"1990's\",\"2000's\",\"2010's\"]\n",
    "year_count_df['Decade'] = pd.cut(year_count_df['Coin_Date'], bins, labels= labels)\n",
    "\n",
    "\n",
    "# Visualize year count\n",
    "\n",
    "labels = year_count_df['Decade']\n",
    "values = year_count_df['Format']\n",
    "colors = ['#FEBFB3', '#E1396C', '#96D38C']\n",
    "\n",
    "trace = go.Pie(labels=labels, values=values,\n",
    "               hoverinfo='label+value', textinfo='label', \n",
    "               textfont=dict(size=12),\n",
    "               marker=dict(colors=colors, \n",
    "                           line=dict(color='#000000', width=1)))\n",
    "\n",
    "py.iplot([trace], filename='Breakdown by Date Minted')"
   ]
  },
  {
   "cell_type": "code",
   "execution_count": 138,
   "metadata": {},
   "outputs": [
    {
     "data": {
      "text/html": [
       "<iframe id=\"igraph\" scrolling=\"no\" style=\"border:none;\" seamless=\"seamless\" src=\"https://plot.ly/~dlomeland/12.embed\" height=\"525px\" width=\"100%\"></iframe>"
      ],
      "text/plain": [
       "<plotly.tools.PlotlyDisplay object>"
      ]
     },
     "execution_count": 138,
     "metadata": {},
     "output_type": "execute_result"
    }
   ],
   "source": [
    "# Get count of grader\n",
    "grader = df['Grader'].value_counts()\n",
    "\n",
    "# Create dataframe\n",
    "grader_df = grader.rename_axis('Grader').reset_index(name='counts')\n",
    "\n",
    "\n",
    "# Visualize Grader count\n",
    "labels = list(grader_df.Grader)\n",
    "values = list(grader_df.counts)\n",
    "colors = ['#8fd9e8', '#e5cd62', '#96D38C']\n",
    "\n",
    "trace = go.Pie(labels=labels, values=values,\n",
    "               hoverinfo='label+percent', textinfo='label+percent', \n",
    "               textfont=dict(size=20),\n",
    "               marker=dict(colors=colors, \n",
    "                           line=dict(color='#000000', width=3)))\n",
    "\n",
    "py.iplot([trace], filename='Breakdown By Grader')"
   ]
  },
  {
   "cell_type": "code",
   "execution_count": 109,
   "metadata": {},
   "outputs": [
    {
     "data": {
      "text/html": [
       "<iframe id=\"igraph\" scrolling=\"no\" style=\"border:none;\" seamless=\"seamless\" src=\"https://plot.ly/~dlomeland/14.embed\" height=\"525px\" width=\"100%\"></iframe>"
      ],
      "text/plain": [
       "<plotly.tools.PlotlyDisplay object>"
      ]
     },
     "execution_count": 109,
     "metadata": {},
     "output_type": "execute_result"
    }
   ],
   "source": [
    "# Get count of grader\n",
    "mint = df['Mint'].value_counts()\n",
    "\n",
    "# Create dataframe\n",
    "mint_df = mint.rename_axis('Mint').reset_index(name='counts')\n",
    "\n",
    "# Replace mint marks with name of city \n",
    "mint_df['Mint'].replace(\n",
    "    to_replace=['D', 'S',' '],\n",
    "    value=['Denver','San Francisco','Philadelphia'],\n",
    "    inplace=True\n",
    ")\n",
    "\n",
    "# Visualize Grader count\n",
    "labels = list(mint_df.Mint)\n",
    "values = list(mint_df.counts)\n",
    "colors = ['#FEBFB3', '#E1396C', '#e262e5']\n",
    "\n",
    "trace = go.Pie(labels=labels, values=values,\n",
    "               hoverinfo='label+percent', textinfo='label+percent', \n",
    "               textfont=dict(size=20),\n",
    "               marker=dict(colors=colors, \n",
    "                           line=dict(color='#000000', width=2)))\n",
    "\n",
    "py.iplot([trace], filename='Breakdown By Mint')"
   ]
  },
  {
   "cell_type": "markdown",
   "metadata": {},
   "source": [
    "<Br>\n",
    "    <Br>\n",
    "        <Br>\n",
    "# <center> Shipping Prices\n",
    "<Br>\n",
    "<Br>\n",
    "<Br>"
   ]
  },
  {
   "cell_type": "code",
   "execution_count": 154,
   "metadata": {},
   "outputs": [
    {
     "data": {
      "text/html": [
       "<div>\n",
       "<style scoped>\n",
       "    .dataframe tbody tr th:only-of-type {\n",
       "        vertical-align: middle;\n",
       "    }\n",
       "\n",
       "    .dataframe tbody tr th {\n",
       "        vertical-align: top;\n",
       "    }\n",
       "\n",
       "    .dataframe thead th {\n",
       "        text-align: right;\n",
       "    }\n",
       "</style>\n",
       "<table border=\"1\" class=\"dataframe\">\n",
       "  <thead>\n",
       "    <tr style=\"text-align: right;\">\n",
       "      <th></th>\n",
       "      <th>Unnamed: 0</th>\n",
       "      <th>Coin_Date</th>\n",
       "      <th>Mint</th>\n",
       "      <th>Grader</th>\n",
       "      <th>CAC</th>\n",
       "      <th>Price_+_Shipping</th>\n",
       "      <th>Price</th>\n",
       "      <th>Shipping</th>\n",
       "      <th>Bids</th>\n",
       "      <th>Result</th>\n",
       "      <th>...</th>\n",
       "      <th>Format</th>\n",
       "      <th>Best_Offer_Accepted</th>\n",
       "      <th>Title_Length</th>\n",
       "      <th>Sale_Time</th>\n",
       "      <th>Sale_Day</th>\n",
       "      <th>Sale_Date</th>\n",
       "      <th>Sale_Year</th>\n",
       "      <th>Time_Stamp</th>\n",
       "      <th>Coin</th>\n",
       "      <th>Shipping_Bins</th>\n",
       "    </tr>\n",
       "  </thead>\n",
       "  <tbody>\n",
       "    <tr>\n",
       "      <th>0</th>\n",
       "      <td>0</td>\n",
       "      <td>1949</td>\n",
       "      <td>S</td>\n",
       "      <td>NGC</td>\n",
       "      <td></td>\n",
       "      <td>132.0</td>\n",
       "      <td>132.00</td>\n",
       "      <td>0.00</td>\n",
       "      <td>-</td>\n",
       "      <td>Sold</td>\n",
       "      <td>...</td>\n",
       "      <td>Buy_it_now</td>\n",
       "      <td>Yes</td>\n",
       "      <td>67</td>\n",
       "      <td>23:40</td>\n",
       "      <td>Monday</td>\n",
       "      <td>Feb-18</td>\n",
       "      <td>2019</td>\n",
       "      <td>2019-02-18</td>\n",
       "      <td>1949 S NGC</td>\n",
       "      <td>$0-1</td>\n",
       "    </tr>\n",
       "    <tr>\n",
       "      <th>1</th>\n",
       "      <td>1</td>\n",
       "      <td>1953</td>\n",
       "      <td>S</td>\n",
       "      <td>NGC</td>\n",
       "      <td></td>\n",
       "      <td>128.0</td>\n",
       "      <td>128.00</td>\n",
       "      <td>0.00</td>\n",
       "      <td>-</td>\n",
       "      <td>Sold</td>\n",
       "      <td>...</td>\n",
       "      <td>Buy_it_now</td>\n",
       "      <td>Yes</td>\n",
       "      <td>67</td>\n",
       "      <td>23:39</td>\n",
       "      <td>Monday</td>\n",
       "      <td>Feb-18</td>\n",
       "      <td>2019</td>\n",
       "      <td>2019-02-18</td>\n",
       "      <td>1953 S NGC</td>\n",
       "      <td>$1-2</td>\n",
       "    </tr>\n",
       "    <tr>\n",
       "      <th>2</th>\n",
       "      <td>2</td>\n",
       "      <td>1953</td>\n",
       "      <td>S</td>\n",
       "      <td>PCGS</td>\n",
       "      <td></td>\n",
       "      <td>146.0</td>\n",
       "      <td>146.00</td>\n",
       "      <td>0.00</td>\n",
       "      <td>-</td>\n",
       "      <td>Sold</td>\n",
       "      <td>...</td>\n",
       "      <td>Buy_it_now</td>\n",
       "      <td>Yes</td>\n",
       "      <td>57</td>\n",
       "      <td>23:36</td>\n",
       "      <td>Monday</td>\n",
       "      <td>Feb-18</td>\n",
       "      <td>2019</td>\n",
       "      <td>2019-02-18</td>\n",
       "      <td>1953 S PCGS</td>\n",
       "      <td>$3-4</td>\n",
       "    </tr>\n",
       "    <tr>\n",
       "      <th>3</th>\n",
       "      <td>3</td>\n",
       "      <td>1943</td>\n",
       "      <td>S</td>\n",
       "      <td>PCGS</td>\n",
       "      <td></td>\n",
       "      <td>248.0</td>\n",
       "      <td>248.00</td>\n",
       "      <td>0.00</td>\n",
       "      <td>-</td>\n",
       "      <td>Sold</td>\n",
       "      <td>...</td>\n",
       "      <td>Buy_it_now</td>\n",
       "      <td>Yes</td>\n",
       "      <td>55</td>\n",
       "      <td>23:26</td>\n",
       "      <td>Monday</td>\n",
       "      <td>Feb-18</td>\n",
       "      <td>2019</td>\n",
       "      <td>2019-02-18</td>\n",
       "      <td>1943 S PCGS</td>\n",
       "      <td>$1-2</td>\n",
       "    </tr>\n",
       "    <tr>\n",
       "      <th>4</th>\n",
       "      <td>4</td>\n",
       "      <td>1970</td>\n",
       "      <td>D</td>\n",
       "      <td>ICG</td>\n",
       "      <td></td>\n",
       "      <td>23.5</td>\n",
       "      <td>20.31</td>\n",
       "      <td>3.19</td>\n",
       "      <td>10</td>\n",
       "      <td>Sold</td>\n",
       "      <td>...</td>\n",
       "      <td>Auction</td>\n",
       "      <td>No</td>\n",
       "      <td>71</td>\n",
       "      <td>19:51</td>\n",
       "      <td>Monday</td>\n",
       "      <td>Feb-18</td>\n",
       "      <td>2019</td>\n",
       "      <td>2019-02-18</td>\n",
       "      <td>1970 D ICG</td>\n",
       "      <td>More then $5</td>\n",
       "    </tr>\n",
       "  </tbody>\n",
       "</table>\n",
       "<p>5 rows × 22 columns</p>\n",
       "</div>"
      ],
      "text/plain": [
       "   Unnamed: 0  Coin_Date Mint Grader CAC  Price_+_Shipping   Price  Shipping  \\\n",
       "0           0       1949    S    NGC                 132.0  132.00      0.00   \n",
       "1           1       1953    S    NGC                 128.0  128.00      0.00   \n",
       "2           2       1953    S   PCGS                 146.0  146.00      0.00   \n",
       "3           3       1943    S   PCGS                 248.0  248.00      0.00   \n",
       "4           4       1970    D    ICG                  23.5   20.31      3.19   \n",
       "\n",
       "  Bids Result      ...           Format Best_Offer_Accepted Title_Length  \\\n",
       "0    -   Sold      ...       Buy_it_now                 Yes           67   \n",
       "1    -   Sold      ...       Buy_it_now                 Yes           67   \n",
       "2    -   Sold      ...       Buy_it_now                 Yes           57   \n",
       "3    -   Sold      ...       Buy_it_now                 Yes           55   \n",
       "4   10   Sold      ...          Auction                  No           71   \n",
       "\n",
       "  Sale_Time  Sale_Day Sale_Date Sale_Year  Time_Stamp         Coin  \\\n",
       "0     23:40    Monday    Feb-18      2019  2019-02-18   1949 S NGC   \n",
       "1     23:39    Monday    Feb-18      2019  2019-02-18   1953 S NGC   \n",
       "2     23:36    Monday    Feb-18      2019  2019-02-18  1953 S PCGS   \n",
       "3     23:26    Monday    Feb-18      2019  2019-02-18  1943 S PCGS   \n",
       "4     19:51    Monday    Feb-18      2019  2019-02-18   1970 D ICG   \n",
       "\n",
       "  Shipping_Bins  \n",
       "0          $0-1  \n",
       "1          $1-2  \n",
       "2          $3-4  \n",
       "3          $1-2  \n",
       "4  More then $5  \n",
       "\n",
       "[5 rows x 22 columns]"
      ]
     },
     "execution_count": 154,
     "metadata": {},
     "output_type": "execute_result"
    }
   ],
   "source": [
    "df.head(5)"
   ]
  },
  {
   "cell_type": "code",
   "execution_count": 161,
   "metadata": {},
   "outputs": [
    {
     "data": {
      "text/html": [
       "<div>\n",
       "<style scoped>\n",
       "    .dataframe tbody tr th:only-of-type {\n",
       "        vertical-align: middle;\n",
       "    }\n",
       "\n",
       "    .dataframe tbody tr th {\n",
       "        vertical-align: top;\n",
       "    }\n",
       "\n",
       "    .dataframe thead th {\n",
       "        text-align: right;\n",
       "    }\n",
       "</style>\n",
       "<table border=\"1\" class=\"dataframe\">\n",
       "  <thead>\n",
       "    <tr style=\"text-align: right;\">\n",
       "      <th></th>\n",
       "      <th>Coin</th>\n",
       "      <th>Shipping</th>\n",
       "      <th>Shipping_Bins</th>\n",
       "    </tr>\n",
       "  </thead>\n",
       "  <tbody>\n",
       "    <tr>\n",
       "      <th>0</th>\n",
       "      <td>1949 S NGC</td>\n",
       "      <td>0.00</td>\n",
       "      <td>Free</td>\n",
       "    </tr>\n",
       "    <tr>\n",
       "      <th>1</th>\n",
       "      <td>1953 S NGC</td>\n",
       "      <td>0.00</td>\n",
       "      <td>Free</td>\n",
       "    </tr>\n",
       "    <tr>\n",
       "      <th>2</th>\n",
       "      <td>1953 S PCGS</td>\n",
       "      <td>0.00</td>\n",
       "      <td>Free</td>\n",
       "    </tr>\n",
       "    <tr>\n",
       "      <th>3</th>\n",
       "      <td>1943 S PCGS</td>\n",
       "      <td>0.00</td>\n",
       "      <td>Free</td>\n",
       "    </tr>\n",
       "    <tr>\n",
       "      <th>4</th>\n",
       "      <td>1970 D ICG</td>\n",
       "      <td>3.19</td>\n",
       "      <td>$3-4</td>\n",
       "    </tr>\n",
       "    <tr>\n",
       "      <th>5</th>\n",
       "      <td>1970   ICG</td>\n",
       "      <td>3.19</td>\n",
       "      <td>$3-4</td>\n",
       "    </tr>\n",
       "    <tr>\n",
       "      <th>6</th>\n",
       "      <td>1972   ICG</td>\n",
       "      <td>3.19</td>\n",
       "      <td>$3-4</td>\n",
       "    </tr>\n",
       "    <tr>\n",
       "      <th>7</th>\n",
       "      <td>1943 S PCGS</td>\n",
       "      <td>0.00</td>\n",
       "      <td>Free</td>\n",
       "    </tr>\n",
       "    <tr>\n",
       "      <th>8</th>\n",
       "      <td>1967   NGC</td>\n",
       "      <td>0.00</td>\n",
       "      <td>Free</td>\n",
       "    </tr>\n",
       "    <tr>\n",
       "      <th>9</th>\n",
       "      <td>2004 D PCGS</td>\n",
       "      <td>0.00</td>\n",
       "      <td>Free</td>\n",
       "    </tr>\n",
       "  </tbody>\n",
       "</table>\n",
       "</div>"
      ],
      "text/plain": [
       "          Coin  Shipping Shipping_Bins\n",
       "0   1949 S NGC      0.00          Free\n",
       "1   1953 S NGC      0.00          Free\n",
       "2  1953 S PCGS      0.00          Free\n",
       "3  1943 S PCGS      0.00          Free\n",
       "4   1970 D ICG      3.19          $3-4\n",
       "5   1970   ICG      3.19          $3-4\n",
       "6   1972   ICG      3.19          $3-4\n",
       "7  1943 S PCGS      0.00          Free\n",
       "8   1967   NGC      0.00          Free\n",
       "9  2004 D PCGS      0.00          Free"
      ]
     },
     "execution_count": 161,
     "metadata": {},
     "output_type": "execute_result"
    }
   ],
   "source": [
    "# Create Bins For each Decade\n",
    "shipping_df = df[['Coin','Shipping']]\n",
    "bins = [-1,0.5,1,2,3,4,5,100]\n",
    "labels =['Free','$0-1','$1-2','$2-3','$3-4','$4-5','More then $5']\n",
    "shipping_df['Shipping_Bins'] = pd.cut(shipping_df['Shipping'], bins, labels= labels)\n",
    "shipping_df.head(10)"
   ]
  },
  {
   "cell_type": "code",
   "execution_count": 181,
   "metadata": {},
   "outputs": [
    {
     "data": {
      "text/plain": [
       "[61, 55, 25, 4, 0, 0, 0]"
      ]
     },
     "execution_count": 181,
     "metadata": {},
     "output_type": "execute_result"
    }
   ],
   "source": [
    "# Get count of grader\n",
    "shipping = shipping_df['Shipping_Bins'].value_counts()\n",
    "\n",
    "# Create dataframe\n",
    "ship_df = shipping.rename_axis('Shipping_Bins').reset_index(name='count')\n",
    "list(ship_df['Shipping_Bins'])\n",
    "list(ship_df['count'])"
   ]
  },
  {
   "cell_type": "code",
   "execution_count": 188,
   "metadata": {},
   "outputs": [
    {
     "data": {
      "text/html": [
       "<iframe id=\"igraph\" scrolling=\"no\" style=\"border:none;\" seamless=\"seamless\" src=\"https://plot.ly/~dlomeland/24.embed\" height=\"525px\" width=\"100%\"></iframe>"
      ],
      "text/plain": [
       "<plotly.tools.PlotlyDisplay object>"
      ]
     },
     "execution_count": 188,
     "metadata": {},
     "output_type": "execute_result"
    }
   ],
   "source": [
    "trace0 = go.Bar(\n",
    "    x=ship_df.Shipping_Bins,\n",
    "    y=list(ship_df['count']),\n",
    "    text= list(ship_df['count']),\n",
    "    textposition = 'auto',\n",
    "    marker=dict(\n",
    "        color='#b2d356',\n",
    "        line=dict(\n",
    "            color='#55d281',\n",
    "            width=1.5,\n",
    "        )\n",
    "    ),\n",
    "    opacity=0.6\n",
    ")\n",
    "\n",
    "data = [trace0]\n",
    "layout = go.Layout(\n",
    "    title=' Shipping Costs',\n",
    ")\n",
    "\n",
    "fig = go.Figure(data=data, layout=layout)\n",
    "py.iplot(fig, filename='Shipping Costs')"
   ]
  },
  {
   "cell_type": "code",
   "execution_count": null,
   "metadata": {},
   "outputs": [],
   "source": []
  },
  {
   "cell_type": "code",
   "execution_count": null,
   "metadata": {},
   "outputs": [],
   "source": []
  }
 ],
 "metadata": {
  "kernelspec": {
   "display_name": "ut_data",
   "language": "python",
   "name": "ut_data"
  },
  "language_info": {
   "codemirror_mode": {
    "name": "ipython",
    "version": 3
   },
   "file_extension": ".py",
   "mimetype": "text/x-python",
   "name": "python",
   "nbconvert_exporter": "python",
   "pygments_lexer": "ipython3",
   "version": "3.7.2"
  }
 },
 "nbformat": 4,
 "nbformat_minor": 2
}
